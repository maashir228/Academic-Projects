{
 "cells": [
  {
   "cell_type": "markdown",
   "metadata": {
    "id": "VHRoE-uApx3d"
   },
   "source": [
    "## Data Cleaning and Transformation"
   ]
  },
  {
   "cell_type": "code",
   "execution_count": 44,
   "metadata": {
    "id": "Oet5qLidmcCu"
   },
   "outputs": [],
   "source": [
    "import numpy as np \n",
    "import pandas as pd # data processing, CSV file "
   ]
  },
  {
   "cell_type": "code",
   "execution_count": 45,
   "metadata": {
    "id": "nbs4cRCImuI-"
   },
   "outputs": [],
   "source": [
    "import multiprocessing\n",
    "import seaborn as sns\n",
    "import email\n",
    "import matplotlib.pyplot as plt"
   ]
  },
  {
   "cell_type": "code",
   "execution_count": 46,
   "metadata": {
    "id": "tY7HRQ25m3AJ"
   },
   "outputs": [
    {
     "data": {
      "text/html": [
       "<div>\n",
       "<style scoped>\n",
       "    .dataframe tbody tr th:only-of-type {\n",
       "        vertical-align: middle;\n",
       "    }\n",
       "\n",
       "    .dataframe tbody tr th {\n",
       "        vertical-align: top;\n",
       "    }\n",
       "\n",
       "    .dataframe thead th {\n",
       "        text-align: right;\n",
       "    }\n",
       "</style>\n",
       "<table border=\"1\" class=\"dataframe\">\n",
       "  <thead>\n",
       "    <tr style=\"text-align: right;\">\n",
       "      <th></th>\n",
       "      <th>file</th>\n",
       "      <th>message</th>\n",
       "    </tr>\n",
       "  </thead>\n",
       "  <tbody>\n",
       "    <tr>\n",
       "      <th>0</th>\n",
       "      <td>allen-p/_sent_mail/1.</td>\n",
       "      <td>Message-ID: &lt;18782981.1075855378110.JavaMail.e...</td>\n",
       "    </tr>\n",
       "    <tr>\n",
       "      <th>1</th>\n",
       "      <td>allen-p/_sent_mail/10.</td>\n",
       "      <td>Message-ID: &lt;15464986.1075855378456.JavaMail.e...</td>\n",
       "    </tr>\n",
       "    <tr>\n",
       "      <th>2</th>\n",
       "      <td>allen-p/_sent_mail/100.</td>\n",
       "      <td>Message-ID: &lt;24216240.1075855687451.JavaMail.e...</td>\n",
       "    </tr>\n",
       "    <tr>\n",
       "      <th>3</th>\n",
       "      <td>allen-p/_sent_mail/1000.</td>\n",
       "      <td>Message-ID: &lt;13505866.1075863688222.JavaMail.e...</td>\n",
       "    </tr>\n",
       "    <tr>\n",
       "      <th>4</th>\n",
       "      <td>allen-p/_sent_mail/1001.</td>\n",
       "      <td>Message-ID: &lt;30922949.1075863688243.JavaMail.e...</td>\n",
       "    </tr>\n",
       "  </tbody>\n",
       "</table>\n",
       "</div>"
      ],
      "text/plain": [
       "                       file                                            message\n",
       "0     allen-p/_sent_mail/1.  Message-ID: <18782981.1075855378110.JavaMail.e...\n",
       "1    allen-p/_sent_mail/10.  Message-ID: <15464986.1075855378456.JavaMail.e...\n",
       "2   allen-p/_sent_mail/100.  Message-ID: <24216240.1075855687451.JavaMail.e...\n",
       "3  allen-p/_sent_mail/1000.  Message-ID: <13505866.1075863688222.JavaMail.e...\n",
       "4  allen-p/_sent_mail/1001.  Message-ID: <30922949.1075863688243.JavaMail.e..."
      ]
     },
     "execution_count": 46,
     "metadata": {},
     "output_type": "execute_result"
    }
   ],
   "source": [
    "df = pd.read_csv(\"emails.csv\", encoding=\"utf-8\")\n",
    "df.head()"
   ]
  },
  {
   "cell_type": "code",
   "execution_count": 47,
   "metadata": {
    "id": "himk9Znkngs9"
   },
   "outputs": [
    {
     "data": {
      "text/plain": [
       "(517401, 2)"
      ]
     },
     "execution_count": 47,
     "metadata": {},
     "output_type": "execute_result"
    }
   ],
   "source": [
    "df.shape"
   ]
  },
  {
   "cell_type": "code",
   "execution_count": 48,
   "metadata": {
    "id": "44VuJm-pnjpt"
   },
   "outputs": [
    {
     "name": "stdout",
     "output_type": "stream",
     "text": [
      "Message-ID: <15464986.1075855378456.JavaMail.evans@thyme>\n",
      "Date: Fri, 4 May 2001 13:51:00 -0700 (PDT)\n",
      "From: phillip.allen@enron.com\n",
      "To: john.lavorato@enron.com\n",
      "Subject: Re:\n",
      "Mime-Version: 1.0\n",
      "Content-Type: text/plain; charset=us-ascii\n",
      "Content-Transfer-Encoding: 7bit\n",
      "X-From: Phillip K Allen\n",
      "X-To: John J Lavorato <John J Lavorato/ENRON@enronXgate@ENRON>\n",
      "X-cc: \n",
      "X-bcc: \n",
      "X-Folder: \\Phillip_Allen_Jan2002_1\\Allen, Phillip K.\\'Sent Mail\n",
      "X-Origin: Allen-P\n",
      "X-FileName: pallen (Non-Privileged).pst\n",
      "\n",
      "Traveling to have a business meeting takes the fun out of the trip.  Especially if you have to prepare a presentation.  I would suggest holding the business plan meetings here then take a trip without any formal business meetings.  I would even try and get some honest opinions on whether a trip is even desired or necessary.\n",
      "\n",
      "As far as the business meetings, I think it would be more productive to try and stimulate discussions across the different groups about what is working and what is not.  Too often the presenter speaks and the others are quiet just waiting for their turn.   The meetings might be better if held in a round table discussion format.  \n",
      "\n",
      "My suggestion for where to go is Austin.  Play golf and rent a ski boat and jet ski's.  Flying somewhere takes too much time.\n",
      "\n"
     ]
    }
   ],
   "source": [
    "print(df.loc[1]['message'])"
   ]
  },
  {
   "cell_type": "code",
   "execution_count": 49,
   "metadata": {
    "id": "aeh_rC3fnl3r"
   },
   "outputs": [
    {
     "data": {
      "text/plain": [
       "[('Message-ID', '<15464986.1075855378456.JavaMail.evans@thyme>'),\n",
       " ('Date', 'Fri, 4 May 2001 13:51:00 -0700 (PDT)'),\n",
       " ('From', 'phillip.allen@enron.com'),\n",
       " ('To', 'john.lavorato@enron.com'),\n",
       " ('Subject', 'Re:'),\n",
       " ('Mime-Version', '1.0'),\n",
       " ('Content-Type', 'text/plain; charset=us-ascii'),\n",
       " ('Content-Transfer-Encoding', '7bit'),\n",
       " ('X-From', 'Phillip K Allen'),\n",
       " ('X-To', 'John J Lavorato <John J Lavorato/ENRON@enronXgate@ENRON>'),\n",
       " ('X-cc', ''),\n",
       " ('X-bcc', ''),\n",
       " ('X-Folder', \"\\\\Phillip_Allen_Jan2002_1\\\\Allen, Phillip K.\\\\'Sent Mail\"),\n",
       " ('X-Origin', 'Allen-P'),\n",
       " ('X-FileName', 'pallen (Non-Privileged).pst')]"
      ]
     },
     "execution_count": 49,
     "metadata": {},
     "output_type": "execute_result"
    }
   ],
   "source": [
    "message = df.loc[1]['message']\n",
    "e = email.message_from_string(message)\n",
    "\n",
    "e.items()"
   ]
  },
  {
   "cell_type": "code",
   "execution_count": 50,
   "metadata": {
    "id": "5cfw1RBFnnm0"
   },
   "outputs": [
    {
     "data": {
      "text/plain": [
       "\"Traveling to have a business meeting takes the fun out of the trip.  Especially if you have to prepare a presentation.  I would suggest holding the business plan meetings here then take a trip without any formal business meetings.  I would even try and get some honest opinions on whether a trip is even desired or necessary.\\n\\nAs far as the business meetings, I think it would be more productive to try and stimulate discussions across the different groups about what is working and what is not.  Too often the presenter speaks and the others are quiet just waiting for their turn.   The meetings might be better if held in a round table discussion format.  \\n\\nMy suggestion for where to go is Austin.  Play golf and rent a ski boat and jet ski's.  Flying somewhere takes too much time.\\n\""
      ]
     },
     "execution_count": 50,
     "metadata": {},
     "output_type": "execute_result"
    }
   ],
   "source": [
    "e.get('Date')\n",
    "e.get_payload()"
   ]
  },
  {
   "cell_type": "code",
   "execution_count": 51,
   "metadata": {
    "id": "0xSJspGKnqVQ"
   },
   "outputs": [],
   "source": [
    "def get_field(field, messages):\n",
    "    column = []\n",
    "    for message in messages:\n",
    "        e = email.message_from_string(message)\n",
    "        column.append(e.get(field))\n",
    "    return column"
   ]
  },
  {
   "cell_type": "markdown",
   "metadata": {
    "id": "jwiGnU6kothG"
   },
   "source": [
    "Headers\n"
   ]
  },
  {
   "cell_type": "code",
   "execution_count": 52,
   "metadata": {
    "id": "-nNngeIYnsV6"
   },
   "outputs": [
    {
     "data": {
      "text/html": [
       "<div>\n",
       "<style scoped>\n",
       "    .dataframe tbody tr th:only-of-type {\n",
       "        vertical-align: middle;\n",
       "    }\n",
       "\n",
       "    .dataframe tbody tr th {\n",
       "        vertical-align: top;\n",
       "    }\n",
       "\n",
       "    .dataframe thead th {\n",
       "        text-align: right;\n",
       "    }\n",
       "</style>\n",
       "<table border=\"1\" class=\"dataframe\">\n",
       "  <thead>\n",
       "    <tr style=\"text-align: right;\">\n",
       "      <th></th>\n",
       "      <th>file</th>\n",
       "      <th>message</th>\n",
       "      <th>date</th>\n",
       "      <th>subject</th>\n",
       "      <th>X-Folder</th>\n",
       "      <th>X-From</th>\n",
       "      <th>X-To</th>\n",
       "    </tr>\n",
       "  </thead>\n",
       "  <tbody>\n",
       "    <tr>\n",
       "      <th>0</th>\n",
       "      <td>allen-p/_sent_mail/1.</td>\n",
       "      <td>Message-ID: &lt;18782981.1075855378110.JavaMail.e...</td>\n",
       "      <td>Mon, 14 May 2001 16:39:00 -0700 (PDT)</td>\n",
       "      <td></td>\n",
       "      <td>\\Phillip_Allen_Jan2002_1\\Allen, Phillip K.\\'Se...</td>\n",
       "      <td>Phillip K Allen</td>\n",
       "      <td>Tim Belden &lt;Tim Belden/Enron@EnronXGate&gt;</td>\n",
       "    </tr>\n",
       "    <tr>\n",
       "      <th>1</th>\n",
       "      <td>allen-p/_sent_mail/10.</td>\n",
       "      <td>Message-ID: &lt;15464986.1075855378456.JavaMail.e...</td>\n",
       "      <td>Fri, 4 May 2001 13:51:00 -0700 (PDT)</td>\n",
       "      <td>Re:</td>\n",
       "      <td>\\Phillip_Allen_Jan2002_1\\Allen, Phillip K.\\'Se...</td>\n",
       "      <td>Phillip K Allen</td>\n",
       "      <td>John J Lavorato &lt;John J Lavorato/ENRON@enronXg...</td>\n",
       "    </tr>\n",
       "    <tr>\n",
       "      <th>2</th>\n",
       "      <td>allen-p/_sent_mail/100.</td>\n",
       "      <td>Message-ID: &lt;24216240.1075855687451.JavaMail.e...</td>\n",
       "      <td>Wed, 18 Oct 2000 03:00:00 -0700 (PDT)</td>\n",
       "      <td>Re: test</td>\n",
       "      <td>\\Phillip_Allen_Dec2000\\Notes Folders\\'sent mail</td>\n",
       "      <td>Phillip K Allen</td>\n",
       "      <td>Leah Van Arsdall</td>\n",
       "    </tr>\n",
       "  </tbody>\n",
       "</table>\n",
       "</div>"
      ],
      "text/plain": [
       "                      file                                            message  \\\n",
       "0    allen-p/_sent_mail/1.  Message-ID: <18782981.1075855378110.JavaMail.e...   \n",
       "1   allen-p/_sent_mail/10.  Message-ID: <15464986.1075855378456.JavaMail.e...   \n",
       "2  allen-p/_sent_mail/100.  Message-ID: <24216240.1075855687451.JavaMail.e...   \n",
       "\n",
       "                                    date   subject  \\\n",
       "0  Mon, 14 May 2001 16:39:00 -0700 (PDT)             \n",
       "1   Fri, 4 May 2001 13:51:00 -0700 (PDT)       Re:   \n",
       "2  Wed, 18 Oct 2000 03:00:00 -0700 (PDT)  Re: test   \n",
       "\n",
       "                                            X-Folder           X-From  \\\n",
       "0  \\Phillip_Allen_Jan2002_1\\Allen, Phillip K.\\'Se...  Phillip K Allen   \n",
       "1  \\Phillip_Allen_Jan2002_1\\Allen, Phillip K.\\'Se...  Phillip K Allen   \n",
       "2    \\Phillip_Allen_Dec2000\\Notes Folders\\'sent mail  Phillip K Allen   \n",
       "\n",
       "                                                X-To  \n",
       "0           Tim Belden <Tim Belden/Enron@EnronXGate>  \n",
       "1  John J Lavorato <John J Lavorato/ENRON@enronXg...  \n",
       "2                                   Leah Van Arsdall  "
      ]
     },
     "execution_count": 52,
     "metadata": {},
     "output_type": "execute_result"
    }
   ],
   "source": [
    "df['date'] = get_field(\"Date\", df['message'])\n",
    "df['subject'] = get_field(\"Subject\", df['message'])\n",
    "df['X-Folder'] = get_field(\"X-Folder\", df['message'])\n",
    "df['X-From'] = get_field(\"X-From\", df['message'])\n",
    "df['X-To'] = get_field(\"X-To\", df['message'])\n",
    "df.head(3)"
   ]
  },
  {
   "cell_type": "markdown",
   "metadata": {
    "id": "8PypC5S-oyR3"
   },
   "source": [
    "Message Body"
   ]
  },
  {
   "cell_type": "code",
   "execution_count": 53,
   "metadata": {
    "id": "fYagQ52wnu0s"
   },
   "outputs": [
    {
     "data": {
      "text/html": [
       "<div>\n",
       "<style scoped>\n",
       "    .dataframe tbody tr th:only-of-type {\n",
       "        vertical-align: middle;\n",
       "    }\n",
       "\n",
       "    .dataframe tbody tr th {\n",
       "        vertical-align: top;\n",
       "    }\n",
       "\n",
       "    .dataframe thead th {\n",
       "        text-align: right;\n",
       "    }\n",
       "</style>\n",
       "<table border=\"1\" class=\"dataframe\">\n",
       "  <thead>\n",
       "    <tr style=\"text-align: right;\">\n",
       "      <th></th>\n",
       "      <th>file</th>\n",
       "      <th>message</th>\n",
       "      <th>date</th>\n",
       "      <th>subject</th>\n",
       "      <th>X-Folder</th>\n",
       "      <th>X-From</th>\n",
       "      <th>X-To</th>\n",
       "      <th>body</th>\n",
       "    </tr>\n",
       "  </thead>\n",
       "  <tbody>\n",
       "    <tr>\n",
       "      <th>0</th>\n",
       "      <td>allen-p/_sent_mail/1.</td>\n",
       "      <td>Message-ID: &lt;18782981.1075855378110.JavaMail.e...</td>\n",
       "      <td>Mon, 14 May 2001 16:39:00 -0700 (PDT)</td>\n",
       "      <td></td>\n",
       "      <td>\\Phillip_Allen_Jan2002_1\\Allen, Phillip K.\\'Se...</td>\n",
       "      <td>Phillip K Allen</td>\n",
       "      <td>Tim Belden &lt;Tim Belden/Enron@EnronXGate&gt;</td>\n",
       "      <td>Here is our forecast\\n\\n</td>\n",
       "    </tr>\n",
       "    <tr>\n",
       "      <th>1</th>\n",
       "      <td>allen-p/_sent_mail/10.</td>\n",
       "      <td>Message-ID: &lt;15464986.1075855378456.JavaMail.e...</td>\n",
       "      <td>Fri, 4 May 2001 13:51:00 -0700 (PDT)</td>\n",
       "      <td>Re:</td>\n",
       "      <td>\\Phillip_Allen_Jan2002_1\\Allen, Phillip K.\\'Se...</td>\n",
       "      <td>Phillip K Allen</td>\n",
       "      <td>John J Lavorato &lt;John J Lavorato/ENRON@enronXg...</td>\n",
       "      <td>Traveling to have a business meeting takes the...</td>\n",
       "    </tr>\n",
       "    <tr>\n",
       "      <th>2</th>\n",
       "      <td>allen-p/_sent_mail/100.</td>\n",
       "      <td>Message-ID: &lt;24216240.1075855687451.JavaMail.e...</td>\n",
       "      <td>Wed, 18 Oct 2000 03:00:00 -0700 (PDT)</td>\n",
       "      <td>Re: test</td>\n",
       "      <td>\\Phillip_Allen_Dec2000\\Notes Folders\\'sent mail</td>\n",
       "      <td>Phillip K Allen</td>\n",
       "      <td>Leah Van Arsdall</td>\n",
       "      <td>test successful.  way to go!!!</td>\n",
       "    </tr>\n",
       "  </tbody>\n",
       "</table>\n",
       "</div>"
      ],
      "text/plain": [
       "                      file                                            message  \\\n",
       "0    allen-p/_sent_mail/1.  Message-ID: <18782981.1075855378110.JavaMail.e...   \n",
       "1   allen-p/_sent_mail/10.  Message-ID: <15464986.1075855378456.JavaMail.e...   \n",
       "2  allen-p/_sent_mail/100.  Message-ID: <24216240.1075855687451.JavaMail.e...   \n",
       "\n",
       "                                    date   subject  \\\n",
       "0  Mon, 14 May 2001 16:39:00 -0700 (PDT)             \n",
       "1   Fri, 4 May 2001 13:51:00 -0700 (PDT)       Re:   \n",
       "2  Wed, 18 Oct 2000 03:00:00 -0700 (PDT)  Re: test   \n",
       "\n",
       "                                            X-Folder           X-From  \\\n",
       "0  \\Phillip_Allen_Jan2002_1\\Allen, Phillip K.\\'Se...  Phillip K Allen   \n",
       "1  \\Phillip_Allen_Jan2002_1\\Allen, Phillip K.\\'Se...  Phillip K Allen   \n",
       "2    \\Phillip_Allen_Dec2000\\Notes Folders\\'sent mail  Phillip K Allen   \n",
       "\n",
       "                                                X-To  \\\n",
       "0           Tim Belden <Tim Belden/Enron@EnronXGate>   \n",
       "1  John J Lavorato <John J Lavorato/ENRON@enronXg...   \n",
       "2                                   Leah Van Arsdall   \n",
       "\n",
       "                                                body  \n",
       "0                          Here is our forecast\\n\\n   \n",
       "1  Traveling to have a business meeting takes the...  \n",
       "2                     test successful.  way to go!!!  "
      ]
     },
     "execution_count": 53,
     "metadata": {},
     "output_type": "execute_result"
    }
   ],
   "source": [
    "def body(messages):\n",
    "    column = []\n",
    "    for message in messages:\n",
    "        e = email.message_from_string(message)\n",
    "        column.append(e.get_payload())\n",
    "    return column\n",
    "\n",
    "df['body'] = body(df['message'])\n",
    "df.head(3)"
   ]
  },
  {
   "cell_type": "markdown",
   "metadata": {
    "id": "vFwV-MVAo1oi"
   },
   "source": [
    "Employee Names"
   ]
  },
  {
   "cell_type": "code",
   "execution_count": 54,
   "metadata": {
    "id": "ugSGgyE2nwm4"
   },
   "outputs": [
    {
     "data": {
      "text/plain": [
       "0             allen-p/_sent_mail/1.\n",
       "1            allen-p/_sent_mail/10.\n",
       "2           allen-p/_sent_mail/100.\n",
       "3          allen-p/_sent_mail/1000.\n",
       "4          allen-p/_sent_mail/1001.\n",
       "                    ...            \n",
       "517396    zufferli-j/sent_items/95.\n",
       "517397    zufferli-j/sent_items/96.\n",
       "517398    zufferli-j/sent_items/97.\n",
       "517399    zufferli-j/sent_items/98.\n",
       "517400    zufferli-j/sent_items/99.\n",
       "Name: file, Length: 517401, dtype: object"
      ]
     },
     "execution_count": 54,
     "metadata": {},
     "output_type": "execute_result"
    }
   ],
   "source": [
    "df['file'][:]"
   ]
  },
  {
   "cell_type": "code",
   "execution_count": 55,
   "metadata": {
    "id": "8vY28cK-n33h"
   },
   "outputs": [
    {
     "data": {
      "text/html": [
       "<div>\n",
       "<style scoped>\n",
       "    .dataframe tbody tr th:only-of-type {\n",
       "        vertical-align: middle;\n",
       "    }\n",
       "\n",
       "    .dataframe tbody tr th {\n",
       "        vertical-align: top;\n",
       "    }\n",
       "\n",
       "    .dataframe thead th {\n",
       "        text-align: right;\n",
       "    }\n",
       "</style>\n",
       "<table border=\"1\" class=\"dataframe\">\n",
       "  <thead>\n",
       "    <tr style=\"text-align: right;\">\n",
       "      <th></th>\n",
       "      <th>file</th>\n",
       "      <th>message</th>\n",
       "      <th>date</th>\n",
       "      <th>subject</th>\n",
       "      <th>X-Folder</th>\n",
       "      <th>X-From</th>\n",
       "      <th>X-To</th>\n",
       "      <th>body</th>\n",
       "      <th>employee</th>\n",
       "    </tr>\n",
       "  </thead>\n",
       "  <tbody>\n",
       "    <tr>\n",
       "      <th>0</th>\n",
       "      <td>allen-p/_sent_mail/1.</td>\n",
       "      <td>Message-ID: &lt;18782981.1075855378110.JavaMail.e...</td>\n",
       "      <td>Mon, 14 May 2001 16:39:00 -0700 (PDT)</td>\n",
       "      <td></td>\n",
       "      <td>\\Phillip_Allen_Jan2002_1\\Allen, Phillip K.\\'Se...</td>\n",
       "      <td>Phillip K Allen</td>\n",
       "      <td>Tim Belden &lt;Tim Belden/Enron@EnronXGate&gt;</td>\n",
       "      <td>Here is our forecast\\n\\n</td>\n",
       "      <td>allen-p</td>\n",
       "    </tr>\n",
       "    <tr>\n",
       "      <th>1</th>\n",
       "      <td>allen-p/_sent_mail/10.</td>\n",
       "      <td>Message-ID: &lt;15464986.1075855378456.JavaMail.e...</td>\n",
       "      <td>Fri, 4 May 2001 13:51:00 -0700 (PDT)</td>\n",
       "      <td>Re:</td>\n",
       "      <td>\\Phillip_Allen_Jan2002_1\\Allen, Phillip K.\\'Se...</td>\n",
       "      <td>Phillip K Allen</td>\n",
       "      <td>John J Lavorato &lt;John J Lavorato/ENRON@enronXg...</td>\n",
       "      <td>Traveling to have a business meeting takes the...</td>\n",
       "      <td>allen-p</td>\n",
       "    </tr>\n",
       "    <tr>\n",
       "      <th>2</th>\n",
       "      <td>allen-p/_sent_mail/100.</td>\n",
       "      <td>Message-ID: &lt;24216240.1075855687451.JavaMail.e...</td>\n",
       "      <td>Wed, 18 Oct 2000 03:00:00 -0700 (PDT)</td>\n",
       "      <td>Re: test</td>\n",
       "      <td>\\Phillip_Allen_Dec2000\\Notes Folders\\'sent mail</td>\n",
       "      <td>Phillip K Allen</td>\n",
       "      <td>Leah Van Arsdall</td>\n",
       "      <td>test successful.  way to go!!!</td>\n",
       "      <td>allen-p</td>\n",
       "    </tr>\n",
       "    <tr>\n",
       "      <th>3</th>\n",
       "      <td>allen-p/_sent_mail/1000.</td>\n",
       "      <td>Message-ID: &lt;13505866.1075863688222.JavaMail.e...</td>\n",
       "      <td>Mon, 23 Oct 2000 06:13:00 -0700 (PDT)</td>\n",
       "      <td></td>\n",
       "      <td>\\Phillip_Allen_Dec2000\\Notes Folders\\'sent mail</td>\n",
       "      <td>Phillip K Allen</td>\n",
       "      <td>Randall L Gay</td>\n",
       "      <td>Randy,\\n\\n Can you send me a schedule of the s...</td>\n",
       "      <td>allen-p</td>\n",
       "    </tr>\n",
       "    <tr>\n",
       "      <th>4</th>\n",
       "      <td>allen-p/_sent_mail/1001.</td>\n",
       "      <td>Message-ID: &lt;30922949.1075863688243.JavaMail.e...</td>\n",
       "      <td>Thu, 31 Aug 2000 05:07:00 -0700 (PDT)</td>\n",
       "      <td>Re: Hello</td>\n",
       "      <td>\\Phillip_Allen_Dec2000\\Notes Folders\\'sent mail</td>\n",
       "      <td>Phillip K Allen</td>\n",
       "      <td>Greg Piper</td>\n",
       "      <td>Let's shoot for Tuesday at 11:45.</td>\n",
       "      <td>allen-p</td>\n",
       "    </tr>\n",
       "    <tr>\n",
       "      <th>...</th>\n",
       "      <td>...</td>\n",
       "      <td>...</td>\n",
       "      <td>...</td>\n",
       "      <td>...</td>\n",
       "      <td>...</td>\n",
       "      <td>...</td>\n",
       "      <td>...</td>\n",
       "      <td>...</td>\n",
       "      <td>...</td>\n",
       "    </tr>\n",
       "    <tr>\n",
       "      <th>517396</th>\n",
       "      <td>zufferli-j/sent_items/95.</td>\n",
       "      <td>Message-ID: &lt;26807948.1075842029936.JavaMail.e...</td>\n",
       "      <td>Wed, 28 Nov 2001 13:30:11 -0800 (PST)</td>\n",
       "      <td>Trade with John Lavorato</td>\n",
       "      <td>\\ExMerge - Zufferli, John\\Sent Items</td>\n",
       "      <td>Zufferli, John &lt;/O=ENRON/OU=NA/CN=RECIPIENTS/C...</td>\n",
       "      <td>Loibl, Kori &lt;/O=ENRON/OU=NA/CN=RECIPIENTS/CN=K...</td>\n",
       "      <td>This is a trade with OIL-SPEC-HEDGE-NG (John L...</td>\n",
       "      <td>zufferli-j</td>\n",
       "    </tr>\n",
       "    <tr>\n",
       "      <th>517397</th>\n",
       "      <td>zufferli-j/sent_items/96.</td>\n",
       "      <td>Message-ID: &lt;25835861.1075842029959.JavaMail.e...</td>\n",
       "      <td>Wed, 28 Nov 2001 12:47:48 -0800 (PST)</td>\n",
       "      <td>Gas Hedges</td>\n",
       "      <td>\\ExMerge - Zufferli, John\\Sent Items</td>\n",
       "      <td>Zufferli, John &lt;/O=ENRON/OU=NA/CN=RECIPIENTS/C...</td>\n",
       "      <td>Lavorato, John &lt;/O=ENRON/OU=NA/CN=RECIPIENTS/C...</td>\n",
       "      <td>Some of my position is with the Alberta Term b...</td>\n",
       "      <td>zufferli-j</td>\n",
       "    </tr>\n",
       "    <tr>\n",
       "      <th>517398</th>\n",
       "      <td>zufferli-j/sent_items/97.</td>\n",
       "      <td>Message-ID: &lt;28979867.1075842029988.JavaMail.e...</td>\n",
       "      <td>Wed, 28 Nov 2001 07:20:00 -0800 (PST)</td>\n",
       "      <td>RE: CONFIDENTIAL</td>\n",
       "      <td>\\ExMerge - Zufferli, John\\Sent Items</td>\n",
       "      <td>Zufferli, John &lt;/O=ENRON/OU=NA/CN=RECIPIENTS/C...</td>\n",
       "      <td>Doucet, Dawn &lt;/O=ENRON/OU=NA/CN=RECIPIENTS/CN=...</td>\n",
       "      <td>2\\n\\n -----Original Message-----\\nFrom: \\tDouc...</td>\n",
       "      <td>zufferli-j</td>\n",
       "    </tr>\n",
       "    <tr>\n",
       "      <th>517399</th>\n",
       "      <td>zufferli-j/sent_items/98.</td>\n",
       "      <td>Message-ID: &lt;22052556.1075842030013.JavaMail.e...</td>\n",
       "      <td>Tue, 27 Nov 2001 11:52:45 -0800 (PST)</td>\n",
       "      <td>Calgary Analyst/Associate</td>\n",
       "      <td>\\ExMerge - Zufferli, John\\Sent Items</td>\n",
       "      <td>Zufferli, John &lt;/O=ENRON/OU=NA/CN=RECIPIENTS/C...</td>\n",
       "      <td>Slone, Jeanie &lt;/O=ENRON/OU=NA/CN=RECIPIENTS/CN...</td>\n",
       "      <td>Analyst\\t\\t\\t\\t\\tRank\\n\\nStephane Brodeur\\t\\t\\...</td>\n",
       "      <td>zufferli-j</td>\n",
       "    </tr>\n",
       "    <tr>\n",
       "      <th>517400</th>\n",
       "      <td>zufferli-j/sent_items/99.</td>\n",
       "      <td>Message-ID: &lt;28618979.1075842030037.JavaMail.e...</td>\n",
       "      <td>Mon, 26 Nov 2001 10:48:43 -0800 (PST)</td>\n",
       "      <td>RE: ali's essays</td>\n",
       "      <td>\\ExMerge - Zufferli, John\\Sent Items</td>\n",
       "      <td>Zufferli, John &lt;/O=ENRON/OU=NA/CN=RECIPIENTS/C...</td>\n",
       "      <td>'Livia_Zufferli@Monitor.com@ENRON'</td>\n",
       "      <td>i think the YMCA has a class that is for peopl...</td>\n",
       "      <td>zufferli-j</td>\n",
       "    </tr>\n",
       "  </tbody>\n",
       "</table>\n",
       "<p>517401 rows × 9 columns</p>\n",
       "</div>"
      ],
      "text/plain": [
       "                             file  \\\n",
       "0           allen-p/_sent_mail/1.   \n",
       "1          allen-p/_sent_mail/10.   \n",
       "2         allen-p/_sent_mail/100.   \n",
       "3        allen-p/_sent_mail/1000.   \n",
       "4        allen-p/_sent_mail/1001.   \n",
       "...                           ...   \n",
       "517396  zufferli-j/sent_items/95.   \n",
       "517397  zufferli-j/sent_items/96.   \n",
       "517398  zufferli-j/sent_items/97.   \n",
       "517399  zufferli-j/sent_items/98.   \n",
       "517400  zufferli-j/sent_items/99.   \n",
       "\n",
       "                                                  message  \\\n",
       "0       Message-ID: <18782981.1075855378110.JavaMail.e...   \n",
       "1       Message-ID: <15464986.1075855378456.JavaMail.e...   \n",
       "2       Message-ID: <24216240.1075855687451.JavaMail.e...   \n",
       "3       Message-ID: <13505866.1075863688222.JavaMail.e...   \n",
       "4       Message-ID: <30922949.1075863688243.JavaMail.e...   \n",
       "...                                                   ...   \n",
       "517396  Message-ID: <26807948.1075842029936.JavaMail.e...   \n",
       "517397  Message-ID: <25835861.1075842029959.JavaMail.e...   \n",
       "517398  Message-ID: <28979867.1075842029988.JavaMail.e...   \n",
       "517399  Message-ID: <22052556.1075842030013.JavaMail.e...   \n",
       "517400  Message-ID: <28618979.1075842030037.JavaMail.e...   \n",
       "\n",
       "                                         date                    subject  \\\n",
       "0       Mon, 14 May 2001 16:39:00 -0700 (PDT)                              \n",
       "1        Fri, 4 May 2001 13:51:00 -0700 (PDT)                        Re:   \n",
       "2       Wed, 18 Oct 2000 03:00:00 -0700 (PDT)                   Re: test   \n",
       "3       Mon, 23 Oct 2000 06:13:00 -0700 (PDT)                              \n",
       "4       Thu, 31 Aug 2000 05:07:00 -0700 (PDT)                  Re: Hello   \n",
       "...                                       ...                        ...   \n",
       "517396  Wed, 28 Nov 2001 13:30:11 -0800 (PST)   Trade with John Lavorato   \n",
       "517397  Wed, 28 Nov 2001 12:47:48 -0800 (PST)                 Gas Hedges   \n",
       "517398  Wed, 28 Nov 2001 07:20:00 -0800 (PST)           RE: CONFIDENTIAL   \n",
       "517399  Tue, 27 Nov 2001 11:52:45 -0800 (PST)  Calgary Analyst/Associate   \n",
       "517400  Mon, 26 Nov 2001 10:48:43 -0800 (PST)           RE: ali's essays   \n",
       "\n",
       "                                                 X-Folder  \\\n",
       "0       \\Phillip_Allen_Jan2002_1\\Allen, Phillip K.\\'Se...   \n",
       "1       \\Phillip_Allen_Jan2002_1\\Allen, Phillip K.\\'Se...   \n",
       "2         \\Phillip_Allen_Dec2000\\Notes Folders\\'sent mail   \n",
       "3         \\Phillip_Allen_Dec2000\\Notes Folders\\'sent mail   \n",
       "4         \\Phillip_Allen_Dec2000\\Notes Folders\\'sent mail   \n",
       "...                                                   ...   \n",
       "517396               \\ExMerge - Zufferli, John\\Sent Items   \n",
       "517397               \\ExMerge - Zufferli, John\\Sent Items   \n",
       "517398               \\ExMerge - Zufferli, John\\Sent Items   \n",
       "517399               \\ExMerge - Zufferli, John\\Sent Items   \n",
       "517400               \\ExMerge - Zufferli, John\\Sent Items   \n",
       "\n",
       "                                                   X-From  \\\n",
       "0                                         Phillip K Allen   \n",
       "1                                         Phillip K Allen   \n",
       "2                                         Phillip K Allen   \n",
       "3                                         Phillip K Allen   \n",
       "4                                         Phillip K Allen   \n",
       "...                                                   ...   \n",
       "517396  Zufferli, John </O=ENRON/OU=NA/CN=RECIPIENTS/C...   \n",
       "517397  Zufferli, John </O=ENRON/OU=NA/CN=RECIPIENTS/C...   \n",
       "517398  Zufferli, John </O=ENRON/OU=NA/CN=RECIPIENTS/C...   \n",
       "517399  Zufferli, John </O=ENRON/OU=NA/CN=RECIPIENTS/C...   \n",
       "517400  Zufferli, John </O=ENRON/OU=NA/CN=RECIPIENTS/C...   \n",
       "\n",
       "                                                     X-To  \\\n",
       "0                Tim Belden <Tim Belden/Enron@EnronXGate>   \n",
       "1       John J Lavorato <John J Lavorato/ENRON@enronXg...   \n",
       "2                                        Leah Van Arsdall   \n",
       "3                                           Randall L Gay   \n",
       "4                                              Greg Piper   \n",
       "...                                                   ...   \n",
       "517396  Loibl, Kori </O=ENRON/OU=NA/CN=RECIPIENTS/CN=K...   \n",
       "517397  Lavorato, John </O=ENRON/OU=NA/CN=RECIPIENTS/C...   \n",
       "517398  Doucet, Dawn </O=ENRON/OU=NA/CN=RECIPIENTS/CN=...   \n",
       "517399  Slone, Jeanie </O=ENRON/OU=NA/CN=RECIPIENTS/CN...   \n",
       "517400                 'Livia_Zufferli@Monitor.com@ENRON'   \n",
       "\n",
       "                                                     body    employee  \n",
       "0                               Here is our forecast\\n\\n      allen-p  \n",
       "1       Traveling to have a business meeting takes the...     allen-p  \n",
       "2                          test successful.  way to go!!!     allen-p  \n",
       "3       Randy,\\n\\n Can you send me a schedule of the s...     allen-p  \n",
       "4                     Let's shoot for Tuesday at 11:45.       allen-p  \n",
       "...                                                   ...         ...  \n",
       "517396  This is a trade with OIL-SPEC-HEDGE-NG (John L...  zufferli-j  \n",
       "517397  Some of my position is with the Alberta Term b...  zufferli-j  \n",
       "517398  2\\n\\n -----Original Message-----\\nFrom: \\tDouc...  zufferli-j  \n",
       "517399  Analyst\\t\\t\\t\\t\\tRank\\n\\nStephane Brodeur\\t\\t\\...  zufferli-j  \n",
       "517400  i think the YMCA has a class that is for peopl...  zufferli-j  \n",
       "\n",
       "[517401 rows x 9 columns]"
      ]
     },
     "execution_count": 55,
     "metadata": {},
     "output_type": "execute_result"
    }
   ],
   "source": [
    "def employee(file):\n",
    "    column = []\n",
    "    for string in file:\n",
    "        column.append(string.split(\"/\")[0])\n",
    "    return column\n",
    "\n",
    "df['employee'] = employee(df['file'])\n",
    "df"
   ]
  },
  {
   "cell_type": "markdown",
   "metadata": {
    "id": "ynSaGsmro6vu"
   },
   "source": [
    "X-Folder "
   ]
  },
  {
   "cell_type": "code",
   "execution_count": 56,
   "metadata": {
    "id": "BqxdL19gn5mR"
   },
   "outputs": [
    {
     "name": "stdout",
     "output_type": "stream",
     "text": [
      "number of folders:  517401\n",
      "number of unique folders:  5336\n"
     ]
    }
   ],
   "source": [
    "print(\"number of folders: \", df.shape[0])\n",
    "print(\"number of unique folders: \", df['X-Folder'].unique().shape[0])"
   ]
  },
  {
   "cell_type": "code",
   "execution_count": 57,
   "metadata": {
    "id": "jpv7Zt-Gn9B7"
   },
   "outputs": [
    {
     "data": {
      "text/html": [
       "<div>\n",
       "<style scoped>\n",
       "    .dataframe tbody tr th:only-of-type {\n",
       "        vertical-align: middle;\n",
       "    }\n",
       "\n",
       "    .dataframe tbody tr th {\n",
       "        vertical-align: top;\n",
       "    }\n",
       "\n",
       "    .dataframe thead th {\n",
       "        text-align: right;\n",
       "    }\n",
       "</style>\n",
       "<table border=\"1\" class=\"dataframe\">\n",
       "  <thead>\n",
       "    <tr style=\"text-align: right;\">\n",
       "      <th></th>\n",
       "      <th>folder_name</th>\n",
       "      <th>count</th>\n",
       "    </tr>\n",
       "  </thead>\n",
       "  <tbody>\n",
       "    <tr>\n",
       "      <th>0</th>\n",
       "      <td>\\Kay_Mann_June2001_1\\Notes Folders\\All documents</td>\n",
       "      <td>6639</td>\n",
       "    </tr>\n",
       "    <tr>\n",
       "      <th>1</th>\n",
       "      <td>\\Tanya_Jones_Dec2000\\Notes Folders\\All documents</td>\n",
       "      <td>5934</td>\n",
       "    </tr>\n",
       "    <tr>\n",
       "      <th>2</th>\n",
       "      <td>\\Jeff_Dasovich_June2001\\Notes Folders\\All docu...</td>\n",
       "      <td>5637</td>\n",
       "    </tr>\n",
       "    <tr>\n",
       "      <th>3</th>\n",
       "      <td>\\Sara_Shackleton_Dec2000_June2001_1\\Notes Fold...</td>\n",
       "      <td>5211</td>\n",
       "    </tr>\n",
       "    <tr>\n",
       "      <th>4</th>\n",
       "      <td>\\Vincent_Kaminski_Jun2001_1\\Notes Folders\\All ...</td>\n",
       "      <td>5066</td>\n",
       "    </tr>\n",
       "    <tr>\n",
       "      <th>5</th>\n",
       "      <td>\\Kay_Mann_June2001_2\\Notes Folders\\Discussion ...</td>\n",
       "      <td>4956</td>\n",
       "    </tr>\n",
       "    <tr>\n",
       "      <th>6</th>\n",
       "      <td>\\Jeff_Dasovich_Dec2000\\Notes Folders\\All docum...</td>\n",
       "      <td>4660</td>\n",
       "    </tr>\n",
       "    <tr>\n",
       "      <th>7</th>\n",
       "      <td>\\Kay_Mann_June2001_3\\Notes Folders\\Sent</td>\n",
       "      <td>4440</td>\n",
       "    </tr>\n",
       "    <tr>\n",
       "      <th>8</th>\n",
       "      <td>\\Kay_Mann_June2001_4\\Notes Folders\\'sent mail</td>\n",
       "      <td>4220</td>\n",
       "    </tr>\n",
       "    <tr>\n",
       "      <th>9</th>\n",
       "      <td>\\Mark_Taylor _Dec_2000\\Notes Folders\\All docum...</td>\n",
       "      <td>4022</td>\n",
       "    </tr>\n",
       "    <tr>\n",
       "      <th>10</th>\n",
       "      <td>\\Vincent_Kaminski_Jun2001_2\\Notes Folders\\Disc...</td>\n",
       "      <td>3980</td>\n",
       "    </tr>\n",
       "    <tr>\n",
       "      <th>11</th>\n",
       "      <td>\\Jeff_Dasovich_June2001\\Notes Folders\\Notes inbox</td>\n",
       "      <td>3535</td>\n",
       "    </tr>\n",
       "    <tr>\n",
       "      <th>12</th>\n",
       "      <td>\\Steven_Kean_June2001_4\\Notes Folders\\Discussi...</td>\n",
       "      <td>3434</td>\n",
       "    </tr>\n",
       "    <tr>\n",
       "      <th>13</th>\n",
       "      <td>\\Tanya_Jones_June2001\\Notes Folders\\All documents</td>\n",
       "      <td>3365</td>\n",
       "    </tr>\n",
       "    <tr>\n",
       "      <th>14</th>\n",
       "      <td>\\kate symes 6-27-02\\Notes Folders\\All documents</td>\n",
       "      <td>3221</td>\n",
       "    </tr>\n",
       "    <tr>\n",
       "      <th>15</th>\n",
       "      <td>\\kate symes 6-27-02\\Notes Folders\\Discussion t...</td>\n",
       "      <td>3065</td>\n",
       "    </tr>\n",
       "    <tr>\n",
       "      <th>16</th>\n",
       "      <td>\\Tanya_Jones_Dec2000\\Notes Folders\\Notes inbox</td>\n",
       "      <td>2975</td>\n",
       "    </tr>\n",
       "    <tr>\n",
       "      <th>17</th>\n",
       "      <td>\\Sara_Shackleton_Dec2000_June2001_2\\Notes Fold...</td>\n",
       "      <td>2944</td>\n",
       "    </tr>\n",
       "    <tr>\n",
       "      <th>18</th>\n",
       "      <td>\\Darren_Farmer_Dec2000\\Notes Folders\\All docum...</td>\n",
       "      <td>2838</td>\n",
       "    </tr>\n",
       "    <tr>\n",
       "      <th>19</th>\n",
       "      <td>\\Tanya_Jones_Dec2000\\Notes Folders\\Sent</td>\n",
       "      <td>2633</td>\n",
       "    </tr>\n",
       "  </tbody>\n",
       "</table>\n",
       "</div>"
      ],
      "text/plain": [
       "                                          folder_name  count\n",
       "0    \\Kay_Mann_June2001_1\\Notes Folders\\All documents   6639\n",
       "1    \\Tanya_Jones_Dec2000\\Notes Folders\\All documents   5934\n",
       "2   \\Jeff_Dasovich_June2001\\Notes Folders\\All docu...   5637\n",
       "3   \\Sara_Shackleton_Dec2000_June2001_1\\Notes Fold...   5211\n",
       "4   \\Vincent_Kaminski_Jun2001_1\\Notes Folders\\All ...   5066\n",
       "5   \\Kay_Mann_June2001_2\\Notes Folders\\Discussion ...   4956\n",
       "6   \\Jeff_Dasovich_Dec2000\\Notes Folders\\All docum...   4660\n",
       "7             \\Kay_Mann_June2001_3\\Notes Folders\\Sent   4440\n",
       "8       \\Kay_Mann_June2001_4\\Notes Folders\\'sent mail   4220\n",
       "9   \\Mark_Taylor _Dec_2000\\Notes Folders\\All docum...   4022\n",
       "10  \\Vincent_Kaminski_Jun2001_2\\Notes Folders\\Disc...   3980\n",
       "11  \\Jeff_Dasovich_June2001\\Notes Folders\\Notes inbox   3535\n",
       "12  \\Steven_Kean_June2001_4\\Notes Folders\\Discussi...   3434\n",
       "13  \\Tanya_Jones_June2001\\Notes Folders\\All documents   3365\n",
       "14    \\kate symes 6-27-02\\Notes Folders\\All documents   3221\n",
       "15  \\kate symes 6-27-02\\Notes Folders\\Discussion t...   3065\n",
       "16     \\Tanya_Jones_Dec2000\\Notes Folders\\Notes inbox   2975\n",
       "17  \\Sara_Shackleton_Dec2000_June2001_2\\Notes Fold...   2944\n",
       "18  \\Darren_Farmer_Dec2000\\Notes Folders\\All docum...   2838\n",
       "19            \\Tanya_Jones_Dec2000\\Notes Folders\\Sent   2633"
      ]
     },
     "execution_count": 57,
     "metadata": {},
     "output_type": "execute_result"
    }
   ],
   "source": [
    "unique_emails = pd.DataFrame(df['X-Folder'].value_counts())\n",
    "unique_emails.reset_index(inplace=True)\n",
    "\n",
    "\n",
    "unique_emails.columns = ['folder_name', 'count']\n",
    "# top 20 folders\n",
    "unique_emails.iloc[:20,:]"
   ]
  },
  {
   "cell_type": "markdown",
   "metadata": {
    "id": "LoIZ6NNqpZPq"
   },
   "source": [
    "Visualizing Folders"
   ]
  },
  {
   "cell_type": "code",
   "execution_count": 58,
   "metadata": {
    "id": "fPsJgZRNn-9r"
   },
   "outputs": [
    {
     "data": {
      "image/png": "[encoded data removed]",
      "text/plain": [
       "<Figure size 720x504 with 1 Axes>"
      ]
     },
     "metadata": {
      "needs_background": "light"
     },
     "output_type": "display_data"
    }
   ],
   "source": [
    "plt.figure(figsize=(10,7))\n",
    "sns.barplot(x='count', y='folder_name', data=unique_emails.iloc[:20, :], palette=\"Blues_d\")\n",
    "plt.title(\"Top 20 folders\")\n",
    "plt.xlabel(\"Count\")\n",
    "plt.ylabel(\"Folder_Name\")\n",
    "plt.show()"
   ]
  },
  {
   "cell_type": "markdown",
   "metadata": {
    "id": "5C8vXKwmpdK9"
   },
   "source": [
    "Top 20 highest email sender employee"
   ]
  },
  {
   "cell_type": "code",
   "execution_count": 59,
   "metadata": {
    "id": "6hI10IIxoAL6"
   },
   "outputs": [
    {
     "data": {
      "text/html": [
       "<div>\n",
       "<style scoped>\n",
       "    .dataframe tbody tr th:only-of-type {\n",
       "        vertical-align: middle;\n",
       "    }\n",
       "\n",
       "    .dataframe tbody tr th {\n",
       "        vertical-align: top;\n",
       "    }\n",
       "\n",
       "    .dataframe thead th {\n",
       "        text-align: right;\n",
       "    }\n",
       "</style>\n",
       "<table border=\"1\" class=\"dataframe\">\n",
       "  <thead>\n",
       "    <tr style=\"text-align: right;\">\n",
       "      <th></th>\n",
       "      <th>Employee_name</th>\n",
       "      <th>Counts</th>\n",
       "    </tr>\n",
       "  </thead>\n",
       "  <tbody>\n",
       "    <tr>\n",
       "      <th>0</th>\n",
       "      <td>kaminski-v</td>\n",
       "      <td>28465</td>\n",
       "    </tr>\n",
       "    <tr>\n",
       "      <th>1</th>\n",
       "      <td>dasovich-j</td>\n",
       "      <td>28234</td>\n",
       "    </tr>\n",
       "    <tr>\n",
       "      <th>2</th>\n",
       "      <td>kean-s</td>\n",
       "      <td>25351</td>\n",
       "    </tr>\n",
       "    <tr>\n",
       "      <th>3</th>\n",
       "      <td>mann-k</td>\n",
       "      <td>23381</td>\n",
       "    </tr>\n",
       "    <tr>\n",
       "      <th>4</th>\n",
       "      <td>jones-t</td>\n",
       "      <td>19950</td>\n",
       "    </tr>\n",
       "    <tr>\n",
       "      <th>5</th>\n",
       "      <td>shackleton-s</td>\n",
       "      <td>18687</td>\n",
       "    </tr>\n",
       "    <tr>\n",
       "      <th>6</th>\n",
       "      <td>taylor-m</td>\n",
       "      <td>13875</td>\n",
       "    </tr>\n",
       "    <tr>\n",
       "      <th>7</th>\n",
       "      <td>farmer-d</td>\n",
       "      <td>13032</td>\n",
       "    </tr>\n",
       "    <tr>\n",
       "      <th>8</th>\n",
       "      <td>germany-c</td>\n",
       "      <td>12436</td>\n",
       "    </tr>\n",
       "    <tr>\n",
       "      <th>9</th>\n",
       "      <td>beck-s</td>\n",
       "      <td>11830</td>\n",
       "    </tr>\n",
       "    <tr>\n",
       "      <th>10</th>\n",
       "      <td>symes-k</td>\n",
       "      <td>10827</td>\n",
       "    </tr>\n",
       "    <tr>\n",
       "      <th>11</th>\n",
       "      <td>nemec-g</td>\n",
       "      <td>10655</td>\n",
       "    </tr>\n",
       "    <tr>\n",
       "      <th>12</th>\n",
       "      <td>scott-s</td>\n",
       "      <td>8022</td>\n",
       "    </tr>\n",
       "    <tr>\n",
       "      <th>13</th>\n",
       "      <td>rogers-b</td>\n",
       "      <td>8009</td>\n",
       "    </tr>\n",
       "    <tr>\n",
       "      <th>14</th>\n",
       "      <td>bass-e</td>\n",
       "      <td>7823</td>\n",
       "    </tr>\n",
       "    <tr>\n",
       "      <th>15</th>\n",
       "      <td>sanders-r</td>\n",
       "      <td>7329</td>\n",
       "    </tr>\n",
       "    <tr>\n",
       "      <th>16</th>\n",
       "      <td>campbell-l</td>\n",
       "      <td>6490</td>\n",
       "    </tr>\n",
       "    <tr>\n",
       "      <th>17</th>\n",
       "      <td>shapiro-r</td>\n",
       "      <td>6071</td>\n",
       "    </tr>\n",
       "    <tr>\n",
       "      <th>18</th>\n",
       "      <td>guzman-m</td>\n",
       "      <td>6054</td>\n",
       "    </tr>\n",
       "    <tr>\n",
       "      <th>19</th>\n",
       "      <td>lay-k</td>\n",
       "      <td>5937</td>\n",
       "    </tr>\n",
       "  </tbody>\n",
       "</table>\n",
       "</div>"
      ],
      "text/plain": [
       "   Employee_name  Counts\n",
       "0     kaminski-v   28465\n",
       "1     dasovich-j   28234\n",
       "2         kean-s   25351\n",
       "3         mann-k   23381\n",
       "4        jones-t   19950\n",
       "5   shackleton-s   18687\n",
       "6       taylor-m   13875\n",
       "7       farmer-d   13032\n",
       "8      germany-c   12436\n",
       "9         beck-s   11830\n",
       "10       symes-k   10827\n",
       "11       nemec-g   10655\n",
       "12       scott-s    8022\n",
       "13      rogers-b    8009\n",
       "14        bass-e    7823\n",
       "15     sanders-r    7329\n",
       "16    campbell-l    6490\n",
       "17     shapiro-r    6071\n",
       "18      guzman-m    6054\n",
       "19         lay-k    5937"
      ]
     },
     "execution_count": 59,
     "metadata": {},
     "output_type": "execute_result"
    }
   ],
   "source": [
    "top_20 = pd.DataFrame(df['employee'].value_counts()[:20])\n",
    "top_20.reset_index(inplace=True)\n",
    "top_20.columns = [\"Employee_name\", \"Counts\"]\n",
    "top_20"
   ]
  },
  {
   "cell_type": "markdown",
   "metadata": {
    "id": "d154m4YipmCr"
   },
   "source": [
    "Data Cleaning and Transformation"
   ]
  },
  {
   "cell_type": "code",
   "execution_count": 60,
   "metadata": {
    "id": "RTYvg_iMoCUK"
   },
   "outputs": [
    {
     "data": {
      "image/png": "[encoded data removed]",
      "text/plain": [
       "<Figure size 720x576 with 1 Axes>"
      ]
     },
     "metadata": {
      "needs_background": "light"
     },
     "output_type": "display_data"
    }
   ],
   "source": [
    "plt.figure(figsize=(10,8))\n",
    "\n",
    "sns.barplot(y=\"Employee_name\", x=\"Counts\", data=top_20, palette=\"Blues_d\")\n",
    "plt.title(\"Top 20 highest email sender employee\")\n",
    "plt.xlabel(\"Count\")\n",
    "plt.ylabel(\"Employee_name\")\n",
    "plt.show()"
   ]
  },
  {
   "cell_type": "code",
   "execution_count": 61,
   "metadata": {
    "id": "Or9R_OxSoEK3"
   },
   "outputs": [
    {
     "name": "stdout",
     "output_type": "stream",
     "text": [
      "04-05-2001 13:51:00\n"
     ]
    }
   ],
   "source": [
    "import datetime\n",
    "from dateutil import parser\n",
    "\n",
    "# this is sample example\n",
    "x = parser.parse(\"Fri, 4 May 2001 13:51:00 -0700 (PDT)\")\n",
    "print(x.strftime(\"%d-%m-%Y %H:%M:%S\"))"
   ]
  },
  {
   "cell_type": "code",
   "execution_count": 62,
   "metadata": {
    "id": "c72NCiJnoFak"
   },
   "outputs": [
    {
     "data": {
      "text/html": [
       "<div>\n",
       "<style scoped>\n",
       "    .dataframe tbody tr th:only-of-type {\n",
       "        vertical-align: middle;\n",
       "    }\n",
       "\n",
       "    .dataframe tbody tr th {\n",
       "        vertical-align: top;\n",
       "    }\n",
       "\n",
       "    .dataframe thead th {\n",
       "        text-align: right;\n",
       "    }\n",
       "</style>\n",
       "<table border=\"1\" class=\"dataframe\">\n",
       "  <thead>\n",
       "    <tr style=\"text-align: right;\">\n",
       "      <th></th>\n",
       "      <th>file</th>\n",
       "      <th>message</th>\n",
       "      <th>date</th>\n",
       "      <th>subject</th>\n",
       "      <th>X-Folder</th>\n",
       "      <th>X-From</th>\n",
       "      <th>X-To</th>\n",
       "      <th>body</th>\n",
       "      <th>employee</th>\n",
       "    </tr>\n",
       "  </thead>\n",
       "  <tbody>\n",
       "    <tr>\n",
       "      <th>0</th>\n",
       "      <td>allen-p/_sent_mail/1.</td>\n",
       "      <td>Message-ID: &lt;18782981.1075855378110.JavaMail.e...</td>\n",
       "      <td>14-05-2001 16:39:00</td>\n",
       "      <td></td>\n",
       "      <td>\\Phillip_Allen_Jan2002_1\\Allen, Phillip K.\\'Se...</td>\n",
       "      <td>Phillip K Allen</td>\n",
       "      <td>Tim Belden &lt;Tim Belden/Enron@EnronXGate&gt;</td>\n",
       "      <td>Here is our forecast\\n\\n</td>\n",
       "      <td>allen-p</td>\n",
       "    </tr>\n",
       "    <tr>\n",
       "      <th>1</th>\n",
       "      <td>allen-p/_sent_mail/10.</td>\n",
       "      <td>Message-ID: &lt;15464986.1075855378456.JavaMail.e...</td>\n",
       "      <td>04-05-2001 13:51:00</td>\n",
       "      <td>Re:</td>\n",
       "      <td>\\Phillip_Allen_Jan2002_1\\Allen, Phillip K.\\'Se...</td>\n",
       "      <td>Phillip K Allen</td>\n",
       "      <td>John J Lavorato &lt;John J Lavorato/ENRON@enronXg...</td>\n",
       "      <td>Traveling to have a business meeting takes the...</td>\n",
       "      <td>allen-p</td>\n",
       "    </tr>\n",
       "  </tbody>\n",
       "</table>\n",
       "</div>"
      ],
      "text/plain": [
       "                     file                                            message  \\\n",
       "0   allen-p/_sent_mail/1.  Message-ID: <18782981.1075855378110.JavaMail.e...   \n",
       "1  allen-p/_sent_mail/10.  Message-ID: <15464986.1075855378456.JavaMail.e...   \n",
       "\n",
       "                  date subject  \\\n",
       "0  14-05-2001 16:39:00           \n",
       "1  04-05-2001 13:51:00     Re:   \n",
       "\n",
       "                                            X-Folder           X-From  \\\n",
       "0  \\Phillip_Allen_Jan2002_1\\Allen, Phillip K.\\'Se...  Phillip K Allen   \n",
       "1  \\Phillip_Allen_Jan2002_1\\Allen, Phillip K.\\'Se...  Phillip K Allen   \n",
       "\n",
       "                                                X-To  \\\n",
       "0           Tim Belden <Tim Belden/Enron@EnronXGate>   \n",
       "1  John J Lavorato <John J Lavorato/ENRON@enronXg...   \n",
       "\n",
       "                                                body employee  \n",
       "0                          Here is our forecast\\n\\n   allen-p  \n",
       "1  Traveling to have a business meeting takes the...  allen-p  "
      ]
     },
     "execution_count": 62,
     "metadata": {},
     "output_type": "execute_result"
    }
   ],
   "source": [
    "def change_type(dates):\n",
    "    column = []\n",
    "    \n",
    "    for date in dates:\n",
    "        column.append(parser.parse(date).strftime(\"%d-%m-%Y %H:%M:%S\"))\n",
    "    return column\n",
    "\n",
    "df['date'] = change_type(df['date'])\n",
    "df.head(2)"
   ]
  },
  {
   "cell_type": "code",
   "execution_count": 63,
   "metadata": {
    "id": "svchRu06oG1x"
   },
   "outputs": [
    {
     "name": "stdout",
     "output_type": "stream",
     "text": [
      "\\Phillip_Allen_Jan2002_1\\Allen, Phillip K.\\'Sent Mail\n"
     ]
    },
    {
     "data": {
      "text/plain": [
       "\"'Sent Mail\""
      ]
     },
     "execution_count": 63,
     "metadata": {},
     "output_type": "execute_result"
    }
   ],
   "source": [
    "print(df['X-Folder'][0])\n",
    "\n",
    "# we only want last folder name\n",
    "df['X-Folder'][0].split(\"\\\\\")[-1]"
   ]
  },
  {
   "cell_type": "code",
   "execution_count": 64,
   "metadata": {
    "id": "FiTx9i8YoJKH"
   },
   "outputs": [
    {
     "data": {
      "text/html": [
       "<div>\n",
       "<style scoped>\n",
       "    .dataframe tbody tr th:only-of-type {\n",
       "        vertical-align: middle;\n",
       "    }\n",
       "\n",
       "    .dataframe tbody tr th {\n",
       "        vertical-align: top;\n",
       "    }\n",
       "\n",
       "    .dataframe thead th {\n",
       "        text-align: right;\n",
       "    }\n",
       "</style>\n",
       "<table border=\"1\" class=\"dataframe\">\n",
       "  <thead>\n",
       "    <tr style=\"text-align: right;\">\n",
       "      <th></th>\n",
       "      <th>file</th>\n",
       "      <th>message</th>\n",
       "      <th>date</th>\n",
       "      <th>subject</th>\n",
       "      <th>X-Folder</th>\n",
       "      <th>X-From</th>\n",
       "      <th>X-To</th>\n",
       "      <th>body</th>\n",
       "      <th>employee</th>\n",
       "    </tr>\n",
       "  </thead>\n",
       "  <tbody>\n",
       "    <tr>\n",
       "      <th>0</th>\n",
       "      <td>allen-p/_sent_mail/1.</td>\n",
       "      <td>Message-ID: &lt;18782981.1075855378110.JavaMail.e...</td>\n",
       "      <td>14-05-2001 16:39:00</td>\n",
       "      <td></td>\n",
       "      <td>'sent mail</td>\n",
       "      <td>Phillip K Allen</td>\n",
       "      <td>Tim Belden &lt;Tim Belden/Enron@EnronXGate&gt;</td>\n",
       "      <td>Here is our forecast\\n\\n</td>\n",
       "      <td>allen-p</td>\n",
       "    </tr>\n",
       "    <tr>\n",
       "      <th>1</th>\n",
       "      <td>allen-p/_sent_mail/10.</td>\n",
       "      <td>Message-ID: &lt;15464986.1075855378456.JavaMail.e...</td>\n",
       "      <td>04-05-2001 13:51:00</td>\n",
       "      <td>Re:</td>\n",
       "      <td>'sent mail</td>\n",
       "      <td>Phillip K Allen</td>\n",
       "      <td>John J Lavorato &lt;John J Lavorato/ENRON@enronXg...</td>\n",
       "      <td>Traveling to have a business meeting takes the...</td>\n",
       "      <td>allen-p</td>\n",
       "    </tr>\n",
       "  </tbody>\n",
       "</table>\n",
       "</div>"
      ],
      "text/plain": [
       "                     file                                            message  \\\n",
       "0   allen-p/_sent_mail/1.  Message-ID: <18782981.1075855378110.JavaMail.e...   \n",
       "1  allen-p/_sent_mail/10.  Message-ID: <15464986.1075855378456.JavaMail.e...   \n",
       "\n",
       "                  date subject    X-Folder           X-From  \\\n",
       "0  14-05-2001 16:39:00          'sent mail  Phillip K Allen   \n",
       "1  04-05-2001 13:51:00     Re:  'sent mail  Phillip K Allen   \n",
       "\n",
       "                                                X-To  \\\n",
       "0           Tim Belden <Tim Belden/Enron@EnronXGate>   \n",
       "1  John J Lavorato <John J Lavorato/ENRON@enronXg...   \n",
       "\n",
       "                                                body employee  \n",
       "0                          Here is our forecast\\n\\n   allen-p  \n",
       "1  Traveling to have a business meeting takes the...  allen-p  "
      ]
     },
     "execution_count": 64,
     "metadata": {},
     "output_type": "execute_result"
    }
   ],
   "source": [
    "def preprocess_folder(folders):\n",
    "    column = []\n",
    "    for folder in folders:\n",
    "        if (folder is None or folder == \"\"):\n",
    "            column.append(np.nan)\n",
    "        else:\n",
    "            column.append(folder.split(\"\\\\\")[-1].lower())\n",
    "    return column\n",
    "\n",
    "df['X-Folder'] = preprocess_folder(df['X-Folder'])\n",
    "df.head(2)"
   ]
  },
  {
   "cell_type": "code",
   "execution_count": 65,
   "metadata": {
    "id": "nX6ATY4LoLM3"
   },
   "outputs": [
    {
     "name": "stdout",
     "output_type": "stream",
     "text": [
      "Unique Foldes:  1782\n"
     ]
    },
    {
     "data": {
      "text/plain": [
       "array([\"'sent mail\", 'all documents', 'contacts', 'deleted items',\n",
       "       'discussion threads', 'inbox', 'notes inbox', 'sent items', 'sent',\n",
       "       'straw', '2000 conference', 'active international', 'avaya', 'bmc',\n",
       "       'bridge', 'bristol babcock', 'colleen koenig', 'compaq',\n",
       "       'computer associates', 'continental airlines'], dtype=object)"
      ]
     },
     "execution_count": 65,
     "metadata": {},
     "output_type": "execute_result"
    }
   ],
   "source": [
    "print(\"Unique Foldes: \", len(df['X-Folder'].unique()))\n",
    "\n",
    "# view some of them\n",
    "df['X-Folder'].unique()[0:20]"
   ]
  },
  {
   "cell_type": "code",
   "execution_count": 66,
   "metadata": {
    "id": "-tdZbCmsoMhz"
   },
   "outputs": [],
   "source": [
    "def replace_empty_with_nan(subject):\n",
    "    column = []\n",
    "    for val in subject:\n",
    "        if (val == \"\"):\n",
    "            column.append(np.nan) \n",
    "        else:\n",
    "            column.append(val)\n",
    "    return column"
   ]
  },
  {
   "cell_type": "code",
   "execution_count": 67,
   "metadata": {
    "id": "WpKf5-veoNtD"
   },
   "outputs": [],
   "source": [
    "df['subject'] = replace_empty_with_nan(df['subject'])\n",
    "df['X-To'] = replace_empty_with_nan(df['X-To'])"
   ]
  },
  {
   "cell_type": "code",
   "execution_count": 68,
   "metadata": {
    "id": "vITwMTt_oPME"
   },
   "outputs": [
    {
     "data": {
      "text/plain": [
       "file            0\n",
       "message         0\n",
       "date            0\n",
       "subject     19187\n",
       "X-Folder       29\n",
       "X-From         29\n",
       "X-To         9153\n",
       "body            0\n",
       "employee        0\n",
       "dtype: int64"
      ]
     },
     "execution_count": 68,
     "metadata": {},
     "output_type": "execute_result"
    }
   ],
   "source": [
    "df.isnull().sum()"
   ]
  },
  {
   "cell_type": "code",
   "execution_count": 69,
   "metadata": {
    "id": "YZJbe-O2oQgK"
   },
   "outputs": [
    {
     "data": {
      "text/plain": [
       "subject     0.037083\n",
       "X-Folder    0.000056\n",
       "X-From      0.000056\n",
       "X-To        0.017690\n",
       "dtype: float64"
      ]
     },
     "execution_count": 69,
     "metadata": {},
     "output_type": "execute_result"
    }
   ],
   "source": [
    "miss = df.isnull().sum()\n",
    "miss = miss[miss>0]\n",
    "miss = miss / df.shape[0]\n",
    "miss"
   ]
  },
  {
   "cell_type": "code",
   "execution_count": 70,
   "metadata": {
    "id": "ugzSSn9AoSwV"
   },
   "outputs": [],
   "source": [
    "df.dropna(axis=0, inplace=True)"
   ]
  },
  {
   "cell_type": "code",
   "execution_count": 71,
   "metadata": {
    "id": "7QPBSWMEoT7n"
   },
   "outputs": [
    {
     "data": {
      "text/plain": [
       "(file        0\n",
       " message     0\n",
       " date        0\n",
       " subject     0\n",
       " X-Folder    0\n",
       " X-From      0\n",
       " X-To        0\n",
       " body        0\n",
       " employee    0\n",
       " dtype: int64,\n",
       " (489236, 9))"
      ]
     },
     "execution_count": 71,
     "metadata": {},
     "output_type": "execute_result"
    }
   ],
   "source": [
    "df.isnull().sum(), df.shape"
   ]
  },
  {
   "cell_type": "code",
   "execution_count": 72,
   "metadata": {
    "id": "g8mtznLcoVOT"
   },
   "outputs": [
    {
     "data": {
      "text/html": [
       "<div>\n",
       "<style scoped>\n",
       "    .dataframe tbody tr th:only-of-type {\n",
       "        vertical-align: middle;\n",
       "    }\n",
       "\n",
       "    .dataframe tbody tr th {\n",
       "        vertical-align: top;\n",
       "    }\n",
       "\n",
       "    .dataframe thead th {\n",
       "        text-align: right;\n",
       "    }\n",
       "</style>\n",
       "<table border=\"1\" class=\"dataframe\">\n",
       "  <thead>\n",
       "    <tr style=\"text-align: right;\">\n",
       "      <th></th>\n",
       "      <th>file</th>\n",
       "      <th>message</th>\n",
       "      <th>date</th>\n",
       "      <th>subject</th>\n",
       "      <th>X-Folder</th>\n",
       "      <th>X-From</th>\n",
       "      <th>X-To</th>\n",
       "      <th>body</th>\n",
       "      <th>employee</th>\n",
       "    </tr>\n",
       "  </thead>\n",
       "  <tbody>\n",
       "    <tr>\n",
       "      <th>1</th>\n",
       "      <td>allen-p/_sent_mail/10.</td>\n",
       "      <td>Message-ID: &lt;15464986.1075855378456.JavaMail.e...</td>\n",
       "      <td>04-05-2001 13:51:00</td>\n",
       "      <td>Re:</td>\n",
       "      <td>'sent mail</td>\n",
       "      <td>Phillip K Allen</td>\n",
       "      <td>John J Lavorato &lt;John J Lavorato/ENRON@enronXg...</td>\n",
       "      <td>Traveling to have a business meeting takes the...</td>\n",
       "      <td>allen-p</td>\n",
       "    </tr>\n",
       "    <tr>\n",
       "      <th>2</th>\n",
       "      <td>allen-p/_sent_mail/100.</td>\n",
       "      <td>Message-ID: &lt;24216240.1075855687451.JavaMail.e...</td>\n",
       "      <td>18-10-2000 03:00:00</td>\n",
       "      <td>Re: test</td>\n",
       "      <td>'sent mail</td>\n",
       "      <td>Phillip K Allen</td>\n",
       "      <td>Leah Van Arsdall</td>\n",
       "      <td>test successful.  way to go!!!</td>\n",
       "      <td>allen-p</td>\n",
       "    </tr>\n",
       "    <tr>\n",
       "      <th>4</th>\n",
       "      <td>allen-p/_sent_mail/1001.</td>\n",
       "      <td>Message-ID: &lt;30922949.1075863688243.JavaMail.e...</td>\n",
       "      <td>31-08-2000 05:07:00</td>\n",
       "      <td>Re: Hello</td>\n",
       "      <td>'sent mail</td>\n",
       "      <td>Phillip K Allen</td>\n",
       "      <td>Greg Piper</td>\n",
       "      <td>Let's shoot for Tuesday at 11:45.</td>\n",
       "      <td>allen-p</td>\n",
       "    </tr>\n",
       "  </tbody>\n",
       "</table>\n",
       "</div>"
      ],
      "text/plain": [
       "                       file  \\\n",
       "1    allen-p/_sent_mail/10.   \n",
       "2   allen-p/_sent_mail/100.   \n",
       "4  allen-p/_sent_mail/1001.   \n",
       "\n",
       "                                             message                 date  \\\n",
       "1  Message-ID: <15464986.1075855378456.JavaMail.e...  04-05-2001 13:51:00   \n",
       "2  Message-ID: <24216240.1075855687451.JavaMail.e...  18-10-2000 03:00:00   \n",
       "4  Message-ID: <30922949.1075863688243.JavaMail.e...  31-08-2000 05:07:00   \n",
       "\n",
       "     subject    X-Folder           X-From  \\\n",
       "1        Re:  'sent mail  Phillip K Allen   \n",
       "2   Re: test  'sent mail  Phillip K Allen   \n",
       "4  Re: Hello  'sent mail  Phillip K Allen   \n",
       "\n",
       "                                                X-To  \\\n",
       "1  John J Lavorato <John J Lavorato/ENRON@enronXg...   \n",
       "2                                   Leah Van Arsdall   \n",
       "4                                         Greg Piper   \n",
       "\n",
       "                                                body employee  \n",
       "1  Traveling to have a business meeting takes the...  allen-p  \n",
       "2                     test successful.  way to go!!!  allen-p  \n",
       "4                Let's shoot for Tuesday at 11:45.    allen-p  "
      ]
     },
     "execution_count": 72,
     "metadata": {},
     "output_type": "execute_result"
    }
   ],
   "source": [
    "df.head(3)"
   ]
  },
  {
   "cell_type": "markdown",
   "metadata": {
    "id": "HhlXJ-LcptuS"
   },
   "source": [
    "Columns to Drop"
   ]
  },
  {
   "cell_type": "code",
   "execution_count": 73,
   "metadata": {
    "id": "Edy5js8koXHi"
   },
   "outputs": [],
   "source": [
    "cols_to_drop = ['file','message','date','X-From','X-To','employee']\n",
    "df.drop(cols_to_drop, axis=1, inplace=True)\n",
    "df.head()\n",
    "df.to_csv(\"cleaned_data.csv\", index=False)"
   ]
  },
  {
   "cell_type": "markdown",
   "metadata": {
    "id": "5gc9SUcSp2D3"
   },
   "source": [
    "## Classification "
   ]
  },
  {
   "cell_type": "code",
   "execution_count": null,
   "metadata": {
    "id": "aEC8kJeqp12Y"
   },
   "outputs": [],
   "source": []
  },
  {
   "cell_type": "markdown",
   "metadata": {
    "id": "rKryC4Ghp_68"
   },
   "source": [
    "Libraries"
   ]
  },
  {
   "cell_type": "code",
   "execution_count": 74,
   "metadata": {
    "id": "udGvma4UqBSg"
   },
   "outputs": [],
   "source": [
    "import matplotlib.pyplot as plt\n",
    "import re\n",
    "import string\n",
    "import time\n",
    "pd.set_option('display.max_rows', 50)\n",
    "\n",
    "from nltk.corpus import stopwords\n",
    "stop = stopwords.words('english')\n",
    "from sklearn.preprocessing import LabelEncoder\n",
    "from sklearn.feature_extraction.text import CountVectorizer\n",
    "from sklearn.feature_extraction.text import TfidfVectorizer\n",
    "from sklearn.model_selection import cross_validate\n",
    "from sklearn.model_selection import train_test_split\n",
    "from sklearn.model_selection import KFold\n",
    "from sklearn.naive_bayes import MultinomialNB, GaussianNB\n",
    "from sklearn.svm import LinearSVC\n",
    "from sklearn.ensemble import AdaBoostClassifier\n",
    "from sklearn.neural_network import MLPClassifier"
   ]
  },
  {
   "cell_type": "code",
   "execution_count": 75,
   "metadata": {
    "id": "oQ3s-q0cqE7Y"
   },
   "outputs": [
    {
     "data": {
      "text/html": [
       "<div>\n",
       "<style scoped>\n",
       "    .dataframe tbody tr th:only-of-type {\n",
       "        vertical-align: middle;\n",
       "    }\n",
       "\n",
       "    .dataframe tbody tr th {\n",
       "        vertical-align: top;\n",
       "    }\n",
       "\n",
       "    .dataframe thead th {\n",
       "        text-align: right;\n",
       "    }\n",
       "</style>\n",
       "<table border=\"1\" class=\"dataframe\">\n",
       "  <thead>\n",
       "    <tr style=\"text-align: right;\">\n",
       "      <th></th>\n",
       "      <th>subject</th>\n",
       "      <th>X-Folder</th>\n",
       "      <th>body</th>\n",
       "    </tr>\n",
       "  </thead>\n",
       "  <tbody>\n",
       "    <tr>\n",
       "      <th>0</th>\n",
       "      <td>Re:</td>\n",
       "      <td>'sent mail</td>\n",
       "      <td>Traveling to have a business meeting takes the...</td>\n",
       "    </tr>\n",
       "    <tr>\n",
       "      <th>1</th>\n",
       "      <td>Re: test</td>\n",
       "      <td>'sent mail</td>\n",
       "      <td>test successful.  way to go!!!</td>\n",
       "    </tr>\n",
       "    <tr>\n",
       "      <th>2</th>\n",
       "      <td>Re: Hello</td>\n",
       "      <td>'sent mail</td>\n",
       "      <td>Let's shoot for Tuesday at 11:45.</td>\n",
       "    </tr>\n",
       "    <tr>\n",
       "      <th>3</th>\n",
       "      <td>Re: Hello</td>\n",
       "      <td>'sent mail</td>\n",
       "      <td>Greg,\\n\\n How about either next Tuesday or Thu...</td>\n",
       "    </tr>\n",
       "    <tr>\n",
       "      <th>4</th>\n",
       "      <td>Re: PRC review - phone calls</td>\n",
       "      <td>'sent mail</td>\n",
       "      <td>any morning between 10 and 11:30</td>\n",
       "    </tr>\n",
       "    <tr>\n",
       "      <th>...</th>\n",
       "      <td>...</td>\n",
       "      <td>...</td>\n",
       "      <td>...</td>\n",
       "    </tr>\n",
       "    <tr>\n",
       "      <th>489231</th>\n",
       "      <td>Trade with John Lavorato</td>\n",
       "      <td>sent items</td>\n",
       "      <td>This is a trade with OIL-SPEC-HEDGE-NG (John L...</td>\n",
       "    </tr>\n",
       "    <tr>\n",
       "      <th>489232</th>\n",
       "      <td>Gas Hedges</td>\n",
       "      <td>sent items</td>\n",
       "      <td>Some of my position is with the Alberta Term b...</td>\n",
       "    </tr>\n",
       "    <tr>\n",
       "      <th>489233</th>\n",
       "      <td>RE: CONFIDENTIAL</td>\n",
       "      <td>sent items</td>\n",
       "      <td>2\\n\\n -----Original Message-----\\nFrom: \\tDouc...</td>\n",
       "    </tr>\n",
       "    <tr>\n",
       "      <th>489234</th>\n",
       "      <td>Calgary Analyst/Associate</td>\n",
       "      <td>sent items</td>\n",
       "      <td>Analyst\\t\\t\\t\\t\\tRank\\n\\nStephane Brodeur\\t\\t\\...</td>\n",
       "    </tr>\n",
       "    <tr>\n",
       "      <th>489235</th>\n",
       "      <td>RE: ali's essays</td>\n",
       "      <td>sent items</td>\n",
       "      <td>i think the YMCA has a class that is for peopl...</td>\n",
       "    </tr>\n",
       "  </tbody>\n",
       "</table>\n",
       "<p>489236 rows × 3 columns</p>\n",
       "</div>"
      ],
      "text/plain": [
       "                             subject    X-Folder  \\\n",
       "0                                Re:  'sent mail   \n",
       "1                           Re: test  'sent mail   \n",
       "2                          Re: Hello  'sent mail   \n",
       "3                          Re: Hello  'sent mail   \n",
       "4       Re: PRC review - phone calls  'sent mail   \n",
       "...                              ...         ...   \n",
       "489231      Trade with John Lavorato  sent items   \n",
       "489232                    Gas Hedges  sent items   \n",
       "489233              RE: CONFIDENTIAL  sent items   \n",
       "489234     Calgary Analyst/Associate  sent items   \n",
       "489235              RE: ali's essays  sent items   \n",
       "\n",
       "                                                     body  \n",
       "0       Traveling to have a business meeting takes the...  \n",
       "1                          test successful.  way to go!!!  \n",
       "2                     Let's shoot for Tuesday at 11:45.    \n",
       "3       Greg,\\n\\n How about either next Tuesday or Thu...  \n",
       "4                        any morning between 10 and 11:30  \n",
       "...                                                   ...  \n",
       "489231  This is a trade with OIL-SPEC-HEDGE-NG (John L...  \n",
       "489232  Some of my position is with the Alberta Term b...  \n",
       "489233  2\\n\\n -----Original Message-----\\nFrom: \\tDouc...  \n",
       "489234  Analyst\\t\\t\\t\\t\\tRank\\n\\nStephane Brodeur\\t\\t\\...  \n",
       "489235  i think the YMCA has a class that is for peopl...  \n",
       "\n",
       "[489236 rows x 3 columns]"
      ]
     },
     "execution_count": 75,
     "metadata": {},
     "output_type": "execute_result"
    }
   ],
   "source": [
    "df2 = pd.read_csv(\"cleaned_data.csv\")\n",
    "\n",
    "# view first 5 rows of the dataframe\n",
    "df2"
   ]
  },
  {
   "cell_type": "markdown",
   "metadata": {
    "id": "W1fiAF6jqIKm"
   },
   "source": [
    "Removing Folders\n"
   ]
  },
  {
   "cell_type": "code",
   "execution_count": 76,
   "metadata": {
    "id": "9SCpktZ9qHCo"
   },
   "outputs": [],
   "source": [
    "def remove_folders(emails, n):\n",
    "    # returns the number of folders containing more than 'n' number of emails\n",
    "    email_count = dict(df['X-Folder'].value_counts())\n",
    "    small_folders = [key for key, val in email_count.items() if val<=n]\n",
    "    emails = df2.loc[~df['X-Folder'].isin(small_folders)]\n",
    "    return emails"
   ]
  },
  {
   "cell_type": "code",
   "execution_count": 77,
   "metadata": {
    "id": "ktq6zl1UqNhe"
   },
   "outputs": [
    {
     "ename": "IndexingError",
     "evalue": "Unalignable boolean Series provided as indexer (index of the boolean Series and of the indexed object do not match).",
     "output_type": "error",
     "traceback": [
      "\u001b[1;31m---------------------------------------------------------------------------\u001b[0m",
      "\u001b[1;31mIndexingError\u001b[0m                             Traceback (most recent call last)",
      "Input \u001b[1;32mIn [77]\u001b[0m, in \u001b[0;36m<cell line: 2>\u001b[1;34m()\u001b[0m\n\u001b[0;32m      1\u001b[0m n \u001b[38;5;241m=\u001b[39m \u001b[38;5;241m150\u001b[39m\n\u001b[1;32m----> 2\u001b[0m df2 \u001b[38;5;241m=\u001b[39m \u001b[43mremove_folders\u001b[49m\u001b[43m(\u001b[49m\u001b[43mdf2\u001b[49m\u001b[43m,\u001b[49m\u001b[43m \u001b[49m\u001b[43mn\u001b[49m\u001b[43m)\u001b[49m\n\u001b[0;32m      4\u001b[0m \u001b[38;5;28mprint\u001b[39m(\u001b[38;5;124m\"\u001b[39m\u001b[38;5;124mTotal folders: \u001b[39m\u001b[38;5;124m\"\u001b[39m, \u001b[38;5;28mlen\u001b[39m(df2[\u001b[38;5;124m'\u001b[39m\u001b[38;5;124mX-Folder\u001b[39m\u001b[38;5;124m'\u001b[39m]\u001b[38;5;241m.\u001b[39munique()))\n\u001b[0;32m      5\u001b[0m \u001b[38;5;28mprint\u001b[39m(\u001b[38;5;124m\"\u001b[39m\u001b[38;5;124mdf.shape: \u001b[39m\u001b[38;5;124m\"\u001b[39m, df2\u001b[38;5;241m.\u001b[39mshape)\n",
      "Input \u001b[1;32mIn [76]\u001b[0m, in \u001b[0;36mremove_folders\u001b[1;34m(emails, n)\u001b[0m\n\u001b[0;32m      3\u001b[0m email_count \u001b[38;5;241m=\u001b[39m \u001b[38;5;28mdict\u001b[39m(df[\u001b[38;5;124m'\u001b[39m\u001b[38;5;124mX-Folder\u001b[39m\u001b[38;5;124m'\u001b[39m]\u001b[38;5;241m.\u001b[39mvalue_counts())\n\u001b[0;32m      4\u001b[0m small_folders \u001b[38;5;241m=\u001b[39m [key \u001b[38;5;28;01mfor\u001b[39;00m key, val \u001b[38;5;129;01min\u001b[39;00m email_count\u001b[38;5;241m.\u001b[39mitems() \u001b[38;5;28;01mif\u001b[39;00m val\u001b[38;5;241m<\u001b[39m\u001b[38;5;241m=\u001b[39mn]\n\u001b[1;32m----> 5\u001b[0m emails \u001b[38;5;241m=\u001b[39m \u001b[43mdf2\u001b[49m\u001b[38;5;241;43m.\u001b[39;49m\u001b[43mloc\u001b[49m\u001b[43m[\u001b[49m\u001b[38;5;241;43m~\u001b[39;49m\u001b[43mdf\u001b[49m\u001b[43m[\u001b[49m\u001b[38;5;124;43m'\u001b[39;49m\u001b[38;5;124;43mX-Folder\u001b[39;49m\u001b[38;5;124;43m'\u001b[39;49m\u001b[43m]\u001b[49m\u001b[38;5;241;43m.\u001b[39;49m\u001b[43misin\u001b[49m\u001b[43m(\u001b[49m\u001b[43msmall_folders\u001b[49m\u001b[43m)\u001b[49m\u001b[43m]\u001b[49m\n\u001b[0;32m      6\u001b[0m \u001b[38;5;28;01mreturn\u001b[39;00m emails\n",
      "File \u001b[1;32m~\\anaconda3\\lib\\site-packages\\pandas\\core\\indexing.py:967\u001b[0m, in \u001b[0;36m_LocationIndexer.__getitem__\u001b[1;34m(self, key)\u001b[0m\n\u001b[0;32m    964\u001b[0m axis \u001b[38;5;241m=\u001b[39m \u001b[38;5;28mself\u001b[39m\u001b[38;5;241m.\u001b[39maxis \u001b[38;5;129;01mor\u001b[39;00m \u001b[38;5;241m0\u001b[39m\n\u001b[0;32m    966\u001b[0m maybe_callable \u001b[38;5;241m=\u001b[39m com\u001b[38;5;241m.\u001b[39mapply_if_callable(key, \u001b[38;5;28mself\u001b[39m\u001b[38;5;241m.\u001b[39mobj)\n\u001b[1;32m--> 967\u001b[0m \u001b[38;5;28;01mreturn\u001b[39;00m \u001b[38;5;28;43mself\u001b[39;49m\u001b[38;5;241;43m.\u001b[39;49m\u001b[43m_getitem_axis\u001b[49m\u001b[43m(\u001b[49m\u001b[43mmaybe_callable\u001b[49m\u001b[43m,\u001b[49m\u001b[43m \u001b[49m\u001b[43maxis\u001b[49m\u001b[38;5;241;43m=\u001b[39;49m\u001b[43maxis\u001b[49m\u001b[43m)\u001b[49m\n",
      "File \u001b[1;32m~\\anaconda3\\lib\\site-packages\\pandas\\core\\indexing.py:1182\u001b[0m, in \u001b[0;36m_LocIndexer._getitem_axis\u001b[1;34m(self, key, axis)\u001b[0m\n\u001b[0;32m   1180\u001b[0m     \u001b[38;5;28;01mreturn\u001b[39;00m \u001b[38;5;28mself\u001b[39m\u001b[38;5;241m.\u001b[39m_get_slice_axis(key, axis\u001b[38;5;241m=\u001b[39maxis)\n\u001b[0;32m   1181\u001b[0m \u001b[38;5;28;01melif\u001b[39;00m com\u001b[38;5;241m.\u001b[39mis_bool_indexer(key):\n\u001b[1;32m-> 1182\u001b[0m     \u001b[38;5;28;01mreturn\u001b[39;00m \u001b[38;5;28;43mself\u001b[39;49m\u001b[38;5;241;43m.\u001b[39;49m\u001b[43m_getbool_axis\u001b[49m\u001b[43m(\u001b[49m\u001b[43mkey\u001b[49m\u001b[43m,\u001b[49m\u001b[43m \u001b[49m\u001b[43maxis\u001b[49m\u001b[38;5;241;43m=\u001b[39;49m\u001b[43maxis\u001b[49m\u001b[43m)\u001b[49m\n\u001b[0;32m   1183\u001b[0m \u001b[38;5;28;01melif\u001b[39;00m is_list_like_indexer(key):\n\u001b[0;32m   1184\u001b[0m \n\u001b[0;32m   1185\u001b[0m     \u001b[38;5;66;03m# an iterable multi-selection\u001b[39;00m\n\u001b[0;32m   1186\u001b[0m     \u001b[38;5;28;01mif\u001b[39;00m \u001b[38;5;129;01mnot\u001b[39;00m (\u001b[38;5;28misinstance\u001b[39m(key, \u001b[38;5;28mtuple\u001b[39m) \u001b[38;5;129;01mand\u001b[39;00m \u001b[38;5;28misinstance\u001b[39m(labels, MultiIndex)):\n",
      "File \u001b[1;32m~\\anaconda3\\lib\\site-packages\\pandas\\core\\indexing.py:984\u001b[0m, in \u001b[0;36m_LocationIndexer._getbool_axis\u001b[1;34m(self, key, axis)\u001b[0m\n\u001b[0;32m    981\u001b[0m \u001b[38;5;28;01mdef\u001b[39;00m \u001b[38;5;21m_getbool_axis\u001b[39m(\u001b[38;5;28mself\u001b[39m, key, axis: \u001b[38;5;28mint\u001b[39m):\n\u001b[0;32m    982\u001b[0m     \u001b[38;5;66;03m# caller is responsible for ensuring non-None axis\u001b[39;00m\n\u001b[0;32m    983\u001b[0m     labels \u001b[38;5;241m=\u001b[39m \u001b[38;5;28mself\u001b[39m\u001b[38;5;241m.\u001b[39mobj\u001b[38;5;241m.\u001b[39m_get_axis(axis)\n\u001b[1;32m--> 984\u001b[0m     key \u001b[38;5;241m=\u001b[39m \u001b[43mcheck_bool_indexer\u001b[49m\u001b[43m(\u001b[49m\u001b[43mlabels\u001b[49m\u001b[43m,\u001b[49m\u001b[43m \u001b[49m\u001b[43mkey\u001b[49m\u001b[43m)\u001b[49m\n\u001b[0;32m    985\u001b[0m     inds \u001b[38;5;241m=\u001b[39m key\u001b[38;5;241m.\u001b[39mnonzero()[\u001b[38;5;241m0\u001b[39m]\n\u001b[0;32m    986\u001b[0m     \u001b[38;5;28;01mreturn\u001b[39;00m \u001b[38;5;28mself\u001b[39m\u001b[38;5;241m.\u001b[39mobj\u001b[38;5;241m.\u001b[39m_take_with_is_copy(inds, axis\u001b[38;5;241m=\u001b[39maxis)\n",
      "File \u001b[1;32m~\\anaconda3\\lib\\site-packages\\pandas\\core\\indexing.py:2383\u001b[0m, in \u001b[0;36mcheck_bool_indexer\u001b[1;34m(index, key)\u001b[0m\n\u001b[0;32m   2381\u001b[0m     mask \u001b[38;5;241m=\u001b[39m isna(result\u001b[38;5;241m.\u001b[39m_values)\n\u001b[0;32m   2382\u001b[0m     \u001b[38;5;28;01mif\u001b[39;00m mask\u001b[38;5;241m.\u001b[39many():\n\u001b[1;32m-> 2383\u001b[0m         \u001b[38;5;28;01mraise\u001b[39;00m IndexingError(\n\u001b[0;32m   2384\u001b[0m             \u001b[38;5;124m\"\u001b[39m\u001b[38;5;124mUnalignable boolean Series provided as \u001b[39m\u001b[38;5;124m\"\u001b[39m\n\u001b[0;32m   2385\u001b[0m             \u001b[38;5;124m\"\u001b[39m\u001b[38;5;124mindexer (index of the boolean Series and of \u001b[39m\u001b[38;5;124m\"\u001b[39m\n\u001b[0;32m   2386\u001b[0m             \u001b[38;5;124m\"\u001b[39m\u001b[38;5;124mthe indexed object do not match).\u001b[39m\u001b[38;5;124m\"\u001b[39m\n\u001b[0;32m   2387\u001b[0m         )\n\u001b[0;32m   2388\u001b[0m     \u001b[38;5;28;01mreturn\u001b[39;00m result\u001b[38;5;241m.\u001b[39mastype(\u001b[38;5;28mbool\u001b[39m)\u001b[38;5;241m.\u001b[39m_values\n\u001b[0;32m   2389\u001b[0m \u001b[38;5;28;01mif\u001b[39;00m is_object_dtype(key):\n\u001b[0;32m   2390\u001b[0m     \u001b[38;5;66;03m# key might be object-dtype bool, check_array_indexer needs bool array\u001b[39;00m\n",
      "\u001b[1;31mIndexingError\u001b[0m: Unalignable boolean Series provided as indexer (index of the boolean Series and of the indexed object do not match)."
     ]
    }
   ],
   "source": [
    "n = 150\n",
    "df2 = remove_folders(df2, n)\n",
    "\n",
    "print(\"Total folders: \", len(df2['X-Folder'].unique()))\n",
    "print(\"df.shape: \", df2.shape)\n",
    "df2"
   ]
  },
  {
   "cell_type": "code",
   "execution_count": 41,
   "metadata": {},
   "outputs": [
    {
     "name": "stderr",
     "output_type": "stream",
     "text": [
      "C:\\Users\\aashi\\AppData\\Local\\Temp\\ipykernel_20224\\2736881100.py:1: SettingWithCopyWarning: \n",
      "A value is trying to be set on a copy of a slice from a DataFrame.\n",
      "Try using .loc[row_indexer,col_indexer] = value instead\n",
      "\n",
      "See the caveats in the documentation: https://pandas.pydata.org/pandas-docs/stable/user_guide/indexing.html#returning-a-view-versus-a-copy\n",
      "  df['text'] = df['subject'] + \" \" + df['body']\n"
     ]
    }
   ],
   "source": [
    "df2['text'] = df2['subject'] + \" \" + df2['body']"
   ]
  },
  {
   "cell_type": "code",
   "execution_count": 43,
   "metadata": {},
   "outputs": [
    {
     "name": "stderr",
     "output_type": "stream",
     "text": [
      "C:\\Users\\aashi\\AppData\\Local\\Temp\\ipykernel_20224\\4076005384.py:1: SettingWithCopyWarning: \n",
      "A value is trying to be set on a copy of a slice from a DataFrame\n",
      "\n",
      "See the caveats in the documentation: https://pandas.pydata.org/pandas-docs/stable/user_guide/indexing.html#returning-a-view-versus-a-copy\n",
      "  df2.drop(['subject','body'], axis=1, inplace=True)\n"
     ]
    }
   ],
   "source": [
    "df2.drop(['subject','body'], axis=1, inplace=True)\n",
    "\n",
    "def preprocess(x):\n",
    "    # lowercasing all the words\n",
    "    x = x.lower()\n",
    "    \n",
    "    # remove extra new lines\n",
    "    x = re.sub(r'\\n+', ' ', x)\n",
    "    \n",
    "    # removing (replacing with empty spaces actually) all the punctuations\n",
    "    x = re.sub(\"[\"+string.punctuation+\"]\", \" \", x)\n",
    "    \n",
    "    # remove extra white spaces\n",
    "    x = re.sub(r'\\s+', ' ', x)\n",
    "    \n",
    "    return x"
   ]
  },
  {
   "cell_type": "code",
   "execution_count": 37,
   "metadata": {
    "id": "MZvf7gtqqVc4"
   },
   "outputs": [
    {
     "name": "stderr",
     "output_type": "stream",
     "text": [
      "C:\\Users\\aashi\\AppData\\Local\\Temp\\ipykernel_15420\\1661627513.py:2: SettingWithCopyWarning: \n",
      "A value is trying to be set on a copy of a slice from a DataFrame.\n",
      "Try using .loc[row_indexer,col_indexer] = value instead\n",
      "\n",
      "See the caveats in the documentation: https://pandas.pydata.org/pandas-docs/stable/user_guide/indexing.html#returning-a-view-versus-a-copy\n",
      "  df.loc[:,'text'] = df.loc[:, 'text'].map(preprocess)\n"
     ]
    },
    {
     "name": "stdout",
     "output_type": "stream",
     "text": [
      "Execution time (sec):  233.41019916534424\n"
     ]
    },
    {
     "name": "stderr",
     "output_type": "stream",
     "text": [
      "C:\\Users\\aashi\\AppData\\Local\\Temp\\ipykernel_15420\\1661627513.py:5: SettingWithCopyWarning: \n",
      "A value is trying to be set on a copy of a slice from a DataFrame.\n",
      "Try using .loc[row_indexer,col_indexer] = value instead\n",
      "\n",
      "See the caveats in the documentation: https://pandas.pydata.org/pandas-docs/stable/user_guide/indexing.html#returning-a-view-versus-a-copy\n",
      "  df.loc[:, 'text'] = df.loc[:, 'text'].apply(lambda x: ' '.join([word for word in x.split() if word not in stop]))\n"
     ]
    }
   ],
   "source": [
    "start = time.time()\n",
    "df2.loc[:,'text'] = df2.loc[:, 'text'].map(preprocess)\n",
    "\n",
    "# remove stopwords\n",
    "df2.loc[:, 'text'] = df2.loc[:, 'text'].apply(lambda x: ' '.join([word for word in x.split() if word not in stop]))\n",
    "end = time.time()\n",
    "print(\"Execution time (sec): \",(end - start))"
   ]
  },
  {
   "cell_type": "code",
   "execution_count": null,
   "metadata": {
    "id": "YQsIgScAqQeS"
   },
   "outputs": [],
   "source": []
  },
  {
   "cell_type": "code",
   "execution_count": 47,
   "metadata": {
    "id": "ugibon6ZqaRa"
   },
   "outputs": [
    {
     "name": "stdout",
     "output_type": "stream",
     "text": [
      "Execution time (sec):  0.03892779350280762\n"
     ]
    }
   ],
   "source": [
    "start = time.time()\n",
    "folders_dict = dict(df2['X-Folder'].value_counts().sort_values()[50:70])\n",
    "data = df2[df2['X-Folder'].isin(folders_dict.keys())]\n",
    "end = time.time()\n",
    "print(\"Execution time (sec): \",(end - start))"
   ]
  },
  {
   "cell_type": "code",
   "execution_count": 48,
   "metadata": {
    "id": "qdPlM2hvqcFP"
   },
   "outputs": [
    {
     "name": "stdout",
     "output_type": "stream",
     "text": [
      "Number of instances:  13586\n"
     ]
    }
   ],
   "source": [
    "print(\"Number of instances: \", data.shape[0])\n",
    "data.to_csv('preprocessed.csv', index=False)\n",
    "\n",
    "data = pd.read_csv(\"preprocessed.csv\")"
   ]
  },
  {
   "cell_type": "code",
   "execution_count": 49,
   "metadata": {
    "id": "rENx6rh-qfps"
   },
   "outputs": [
    {
     "data": {
      "text/plain": [
       "logistics              1170\n",
       "tw-commercial group    1150\n",
       "california             1014\n",
       "bill williams iii      1004\n",
       "deal discrepancies      878\n",
       "management              799\n",
       "calendar                700\n",
       "esvl                    663\n",
       "tufco                   604\n",
       "resumes                 599\n",
       "e-mail bin              592\n",
       "ces                     572\n",
       "online trading          567\n",
       "junk                    544\n",
       "junk file               494\n",
       "ooc                     473\n",
       "genco-jv_ipo            465\n",
       "projects                459\n",
       "corporate               420\n",
       "archives                419\n",
       "Name: X-Folder, dtype: int64"
      ]
     },
     "execution_count": 49,
     "metadata": {},
     "output_type": "execute_result"
    }
   ],
   "source": [
    "data['X-Folder'].value_counts()"
   ]
  },
  {
   "cell_type": "code",
   "execution_count": 50,
   "metadata": {
    "id": "c0dLEkOeqhr6"
   },
   "outputs": [],
   "source": [
    "def label_encoder(data):\n",
    "    class_le = LabelEncoder()\n",
    "    # apply label encoder on the 'X-Folder' column\n",
    "    y = class_le.fit_transform(data['X-Folder'])\n",
    "    return y"
   ]
  },
  {
   "cell_type": "code",
   "execution_count": 51,
   "metadata": {
    "id": "orAzFGaGqj9U"
   },
   "outputs": [],
   "source": [
    "y = label_encoder(data)\n",
    "input_data = data['text']"
   ]
  },
  {
   "cell_type": "code",
   "execution_count": null,
   "metadata": {},
   "outputs": [],
   "source": []
  },
  {
   "cell_type": "markdown",
   "metadata": {
    "id": "kFvcDVuzr2dm"
   },
   "source": [
    "1. Bag of Words"
   ]
  },
  {
   "cell_type": "code",
   "execution_count": 94,
   "metadata": {
    "id": "NXN3Q3WLqlsH"
   },
   "outputs": [
    {
     "name": "stdout",
     "output_type": "stream",
     "text": [
      "Execution time (sec):  1.5069544315338135\n"
     ]
    }
   ],
   "source": [
    "start = time.time()\n",
    "vectorizer = CountVectorizer(min_df=5, max_features=5000)\n",
    "X = vectorizer.fit_transform(input_data)\n",
    "end = time.time()\n",
    "print(\"Execution time (sec): \",(end - start))"
   ]
  },
  {
   "cell_type": "code",
   "execution_count": 95,
   "metadata": {
    "id": "938qDTwSqnCo"
   },
   "outputs": [
    {
     "name": "stdout",
     "output_type": "stream",
     "text": [
      "X.shape:  (13586, 5000)\n",
      "Execution time (sec):  0.16954970359802246\n"
     ]
    }
   ],
   "source": [
    "start = time.time()\n",
    "X = X.toarray()\n",
    "print(\"X.shape: \",X.shape)\n",
    "end = time.time()\n",
    "print(\"Execution time (sec): \",(end - start))"
   ]
  },
  {
   "cell_type": "code",
   "execution_count": 60,
   "metadata": {},
   "outputs": [
    {
     "ename": "NameError",
     "evalue": "name 'X' is not defined",
     "output_type": "error",
     "traceback": [
      "\u001b[1;31m---------------------------------------------------------------------------\u001b[0m",
      "\u001b[1;31mNameError\u001b[0m                                 Traceback (most recent call last)",
      "Input \u001b[1;32mIn [60]\u001b[0m, in \u001b[0;36m<cell line: 1>\u001b[1;34m()\u001b[0m\n\u001b[1;32m----> 1\u001b[0m \u001b[43mX\u001b[49m\u001b[38;5;241m.\u001b[39mshape\n",
      "\u001b[1;31mNameError\u001b[0m: name 'X' is not defined"
     ]
    }
   ],
   "source": [
    "X_train, X_test, y_train, y_test = train_test_split(X, y, test_size=0.7, random_state=1)\n",
    "\n",
    "X_test = vectorizer.transform(X_test)"
   ]
  },
  {
   "cell_type": "code",
   "execution_count": 96,
   "metadata": {
    "id": "tGQyREFVqpoA"
   },
   "outputs": [
    {
     "data": {
      "text/html": [
       "<div>\n",
       "<style scoped>\n",
       "    .dataframe tbody tr th:only-of-type {\n",
       "        vertical-align: middle;\n",
       "    }\n",
       "\n",
       "    .dataframe tbody tr th {\n",
       "        vertical-align: top;\n",
       "    }\n",
       "\n",
       "    .dataframe thead th {\n",
       "        text-align: right;\n",
       "    }\n",
       "</style>\n",
       "<table border=\"1\" class=\"dataframe\">\n",
       "  <thead>\n",
       "    <tr style=\"text-align: right;\">\n",
       "      <th></th>\n",
       "      <th>Algorithm</th>\n",
       "      <th>BoW</th>\n",
       "    </tr>\n",
       "  </thead>\n",
       "  <tbody>\n",
       "    <tr>\n",
       "      <th>0</th>\n",
       "      <td>Gaussian NB</td>\n",
       "      <td></td>\n",
       "    </tr>\n",
       "    <tr>\n",
       "      <th>1</th>\n",
       "      <td>Multinomial NB</td>\n",
       "      <td></td>\n",
       "    </tr>\n",
       "  </tbody>\n",
       "</table>\n",
       "</div>"
      ],
      "text/plain": [
       "        Algorithm BoW\n",
       "0     Gaussian NB    \n",
       "1  Multinomial NB    "
      ]
     },
     "execution_count": 96,
     "metadata": {},
     "output_type": "execute_result"
    }
   ],
   "source": [
    "f1_data = {\n",
    "    'Algorithm': ['Gaussian NB', 'Multinomial NB'],\n",
    "    'BoW': ''\n",
    "}\n",
    "f1_df = pd.DataFrame(f1_data)\n",
    "\n",
    "jaccard_data = {\n",
    "    'Algorithm': ['Gaussian NB', 'Multinomial NB'],\n",
    "    'BoW': ''\n",
    "}\n",
    "jacc_df = pd.DataFrame(jaccard_data)\n",
    "\n",
    "acc_data = {\n",
    "    'Algorithm': ['Gaussian NB', 'Multinomial NB'],\n",
    "    'BoW': ''\n",
    "}\n",
    "acc_df = pd.DataFrame(acc_data)\n",
    "acc_df"
   ]
  },
  {
   "cell_type": "markdown",
   "metadata": {
    "id": "PxXoKWnosqHE"
   },
   "source": [
    "# Training and Evaluation\n"
   ]
  },
  {
   "cell_type": "code",
   "execution_count": 99,
   "metadata": {
    "id": "NhDgfCXAq0Ao"
   },
   "outputs": [
    {
     "name": "stdout",
     "output_type": "stream",
     "text": [
      "Gaussian NB\n",
      "accuracy:  0.5852325249983473\n",
      "f1_score:  0.5621318716847321\n",
      "Jaccard_index:  0.4130840479833916\n",
      "time (sec):  12.85170602798462\n",
      "\n",
      "\n",
      "Multinomial NB\n",
      "accuracy:  0.7377434135166094\n",
      "f1_score:  0.7038215928245647\n",
      "Jaccard_index:  0.5770619060081098\n",
      "time (sec):  38.366703510284424\n",
      "\n",
      "\n"
     ]
    },
    {
     "data": {
      "text/html": [
       "<div>\n",
       "<style scoped>\n",
       "    .dataframe tbody tr th:only-of-type {\n",
       "        vertical-align: middle;\n",
       "    }\n",
       "\n",
       "    .dataframe tbody tr th {\n",
       "        vertical-align: top;\n",
       "    }\n",
       "\n",
       "    .dataframe thead th {\n",
       "        text-align: right;\n",
       "    }\n",
       "</style>\n",
       "<table border=\"1\" class=\"dataframe\">\n",
       "  <thead>\n",
       "    <tr style=\"text-align: right;\">\n",
       "      <th></th>\n",
       "      <th>Algorithm</th>\n",
       "      <th>BoW</th>\n",
       "      <th>time</th>\n",
       "    </tr>\n",
       "  </thead>\n",
       "  <tbody>\n",
       "    <tr>\n",
       "      <th>0</th>\n",
       "      <td>Gaussian NB</td>\n",
       "      <td>0.585233</td>\n",
       "      <td>12.851706</td>\n",
       "    </tr>\n",
       "    <tr>\n",
       "      <th>1</th>\n",
       "      <td>Multinomial NB</td>\n",
       "      <td>0.737743</td>\n",
       "      <td>38.366704</td>\n",
       "    </tr>\n",
       "  </tbody>\n",
       "</table>\n",
       "</div>"
      ],
      "text/plain": [
       "        Algorithm       BoW       time\n",
       "0     Gaussian NB  0.585233  12.851706\n",
       "1  Multinomial NB  0.737743  38.366704"
      ]
     },
     "execution_count": 99,
     "metadata": {},
     "output_type": "execute_result"
    }
   ],
   "source": [
    "models = [GaussianNB(), MultinomialNB()]\n",
    "\n",
    "names = [\"Gaussian NB\", \"Multinomial NB\"]\n",
    "\n",
    "jacc_scores = []\n",
    "acc_scores = []\n",
    "f1_scores = []\n",
    "exec_times = []\n",
    "\n",
    "for model, name in zip(models, names):\n",
    "    print(name)\n",
    "    start = time.time()\n",
    "    scoring = {\n",
    "        'acc': 'accuracy',\n",
    "        'f1_mac': 'f1_macro',\n",
    "        'jacc_mac': 'jaccard_macro'\n",
    "    }\n",
    "    y_pred = model.predict(X_test)\n",
    "    scores = cross_validate(model, X, y, cv=10, n_jobs=4, scoring=scoring)\n",
    "    training_time = (time.time() - start)\n",
    "    print(\"accuracy: \", scores['test_acc'].mean())\n",
    "    print(\"f1_score: \", scores['test_f1_mac'].mean())\n",
    "    print(\"Jaccard_index: \", scores['test_jacc_mac'].mean())\n",
    "    print(\"time (sec): \", training_time)\n",
    "    print(\"\\n\")\n",
    "    \n",
    "    jacc_scores.append(scores['test_jacc_mac'].mean())\n",
    "    acc_scores.append(scores['test_acc'].mean())\n",
    "    f1_scores.append(scores['test_f1_mac'].mean())\n",
    "    exec_times.append(training_time)\n",
    "\n",
    "    confusion_matrix(y_test, y_pred)\n",
    "    print(classification_report(y_test, y_pred))\n",
    "acc_df['BoW'] = acc_scores\n",
    "jacc_df['BoW'] = jacc_scores\n",
    "f1_df['BoW'] = f1_scores\n",
    "acc_df['time'] = exec_times\n",
    "acc_df"
   ]
  },
  {
   "cell_type": "code",
   "execution_count": 98,
   "metadata": {
    "id": "Jk9mn21Lrpcq"
   },
   "outputs": [],
   "source": [
    "acc_df.to_csv(\"accuracy.csv\", index=False)\n",
    "f1_df.to_csv(\"f1_score.csv\", index=False)\n",
    "jacc_df.to_csv(\"jacc_score.csv\", index=False)"
   ]
  },
  {
   "cell_type": "markdown",
   "metadata": {
    "id": "5nLnkxyEr_5s"
   },
   "source": [
    "2. Bag of Words"
   ]
  },
  {
   "cell_type": "code",
   "execution_count": 100,
   "metadata": {
    "id": "cRWQnyiMsd_x"
   },
   "outputs": [
    {
     "name": "stdout",
     "output_type": "stream",
     "text": [
      "X.shape:  (13586, 5000)\n",
      "Execution time (sec):  4.105054140090942\n"
     ]
    }
   ],
   "source": [
    "start = time.time()\n",
    "vectorizer = CountVectorizer(min_df=5, max_features=5000, ngram_range=(2,2))\n",
    "X = vectorizer.fit_transform(input_data)\n",
    "\n",
    "X = X.toarray()\n",
    "print(\"X.shape: \",X.shape)\n",
    "\n",
    "end = time.time()\n",
    "print(\"Execution time (sec): \",(end - start))"
   ]
  },
  {
   "cell_type": "markdown",
   "metadata": {
    "id": "rSdU-cSDsnkI"
   },
   "source": [
    "Training and Evaluation"
   ]
  },
  {
   "cell_type": "code",
   "execution_count": 101,
   "metadata": {
    "id": "H2Ci634hsjKR"
   },
   "outputs": [
    {
     "name": "stdout",
     "output_type": "stream",
     "text": [
      "Gaussian NB\n",
      "accuracy:  0.5833930454364673\n",
      "f1_score:  0.5621651556732388\n",
      "Jaccard_index:  0.4068105548950894\n",
      "time (sec):  12.504441022872925\n",
      "\n",
      "\n",
      "Multinomial NB\n",
      "accuracy:  0.6374178145803735\n",
      "f1_score:  0.6170933752131809\n",
      "Jaccard_index:  0.4707424107547659\n",
      "time (sec):  41.257994174957275\n",
      "\n",
      "\n"
     ]
    },
    {
     "data": {
      "text/html": [
       "<div>\n",
       "<style scoped>\n",
       "    .dataframe tbody tr th:only-of-type {\n",
       "        vertical-align: middle;\n",
       "    }\n",
       "\n",
       "    .dataframe tbody tr th {\n",
       "        vertical-align: top;\n",
       "    }\n",
       "\n",
       "    .dataframe thead th {\n",
       "        text-align: right;\n",
       "    }\n",
       "</style>\n",
       "<table border=\"1\" class=\"dataframe\">\n",
       "  <thead>\n",
       "    <tr style=\"text-align: right;\">\n",
       "      <th></th>\n",
       "      <th>Algorithm</th>\n",
       "      <th>BoW</th>\n",
       "      <th>time</th>\n",
       "      <th>BoWBi</th>\n",
       "      <th>BoWBi_time</th>\n",
       "    </tr>\n",
       "  </thead>\n",
       "  <tbody>\n",
       "    <tr>\n",
       "      <th>0</th>\n",
       "      <td>Gaussian NB</td>\n",
       "      <td>0.585233</td>\n",
       "      <td>12.851706</td>\n",
       "      <td>0.583393</td>\n",
       "      <td>12.504441</td>\n",
       "    </tr>\n",
       "    <tr>\n",
       "      <th>1</th>\n",
       "      <td>Multinomial NB</td>\n",
       "      <td>0.737743</td>\n",
       "      <td>38.366704</td>\n",
       "      <td>0.637418</td>\n",
       "      <td>41.257994</td>\n",
       "    </tr>\n",
       "  </tbody>\n",
       "</table>\n",
       "</div>"
      ],
      "text/plain": [
       "        Algorithm       BoW       time     BoWBi  BoWBi_time\n",
       "0     Gaussian NB  0.585233  12.851706  0.583393   12.504441\n",
       "1  Multinomial NB  0.737743  38.366704  0.637418   41.257994"
      ]
     },
     "execution_count": 101,
     "metadata": {},
     "output_type": "execute_result"
    }
   ],
   "source": [
    "models = [GaussianNB(), MultinomialNB()]\n",
    "\n",
    "names = [\"Gaussian NB\", \"Multinomial NB\"]\n",
    "\n",
    "jacc_scores = []\n",
    "acc_scores = []\n",
    "f1_scores = []\n",
    "exec_times = []\n",
    "\n",
    "for model, name in zip(models, names):\n",
    "    print(name)\n",
    "    start = time.time()\n",
    "    scoring = {\n",
    "        'acc': 'accuracy',\n",
    "        'f1_mac': 'f1_macro',\n",
    "        'jacc_mac': 'jaccard_macro'\n",
    "    }\n",
    "    y_pred = model.predict(X_test)\n",
    "    scores = cross_validate(model, X, y, cv=10, n_jobs=4, scoring=scoring)\n",
    "    training_time = (time.time() - start)\n",
    "    print(\"accuracy: \", scores['test_acc'].mean())\n",
    "    print(\"f1_score: \", scores['test_f1_mac'].mean())\n",
    "    print(\"Jaccard_index: \", scores['test_jacc_mac'].mean())\n",
    "    print(\"time (sec): \", training_time)\n",
    "    print(\"\\n\")\n",
    "    \n",
    "    jacc_scores.append(scores['test_jacc_mac'].mean())\n",
    "    acc_scores.append(scores['test_acc'].mean())\n",
    "    f1_scores.append(scores['test_f1_mac'].mean())\n",
    "    exec_times.append(training_time)\n",
    "    \n",
    "    confusion_matrix(y_test, y_pred)\n",
    "    print(classification_report(y_test, y_pred))\n",
    "\n",
    "    \n",
    "acc_df['BoWBi'] = acc_scores\n",
    "jacc_df['BoWBi'] = jacc_scores\n",
    "f1_df['BoWBi'] = f1_scores\n",
    "acc_df['BoWBi_time'] = exec_times\n",
    "acc_df"
   ]
  },
  {
   "cell_type": "markdown",
   "metadata": {
    "id": "r3ILHKSys4PS"
   },
   "source": [
    "TF-IDF"
   ]
  },
  {
   "cell_type": "code",
   "execution_count": 60,
   "metadata": {
    "id": "oQAwJgqMsxZA",
    "scrolled": true
   },
   "outputs": [
    {
     "name": "stdout",
     "output_type": "stream",
     "text": [
      "X.shape:  (13586, 5000)\n",
      "Execution time (sec):  1.6177070140838623\n"
     ]
    }
   ],
   "source": [
    "start = time.time()\n",
    "vectorizer = TfidfVectorizer(min_df=5, max_features=5000)\n",
    "X = vectorizer.fit_transform(input_data)\n",
    "\n",
    "X = X.toarray()\n",
    "print(\"X.shape: \",X.shape)\n",
    "\n",
    "end = time.time()\n",
    "print(\"Execution time (sec): \",(end - start))"
   ]
  },
  {
   "cell_type": "code",
   "execution_count": 61,
   "metadata": {
    "id": "ekK0_KqFsyb3"
   },
   "outputs": [
    {
     "name": "stdout",
     "output_type": "stream",
     "text": [
      "Gaussian NB\n",
      "accuracy:  0.6093018127120674\n",
      "f1_score:  0.5877402363957523\n",
      "Jaccard_index:  0.44084640698807825\n",
      "time (sec):  12.059986352920532\n",
      "\n",
      "\n",
      "Multinomial NB\n",
      "accuracy:  0.7368567808999297\n",
      "f1_score:  0.6967070564788325\n",
      "Jaccard_index:  0.5701299709091912\n",
      "time (sec):  3.1453583240509033\n",
      "\n",
      "\n"
     ]
    },
    {
     "data": {
      "text/html": [
       "<div>\n",
       "<style scoped>\n",
       "    .dataframe tbody tr th:only-of-type {\n",
       "        vertical-align: middle;\n",
       "    }\n",
       "\n",
       "    .dataframe tbody tr th {\n",
       "        vertical-align: top;\n",
       "    }\n",
       "\n",
       "    .dataframe thead th {\n",
       "        text-align: right;\n",
       "    }\n",
       "</style>\n",
       "<table border=\"1\" class=\"dataframe\">\n",
       "  <thead>\n",
       "    <tr style=\"text-align: right;\">\n",
       "      <th></th>\n",
       "      <th>Algorithm</th>\n",
       "      <th>BoW</th>\n",
       "      <th>time</th>\n",
       "      <th>BoWBi</th>\n",
       "      <th>BoWBi_time</th>\n",
       "      <th>TfIdf</th>\n",
       "      <th>TfIdf_time</th>\n",
       "    </tr>\n",
       "  </thead>\n",
       "  <tbody>\n",
       "    <tr>\n",
       "      <th>0</th>\n",
       "      <td>Gaussian NB</td>\n",
       "      <td>0.585233</td>\n",
       "      <td>19.818053</td>\n",
       "      <td>0.609302</td>\n",
       "      <td>13.891714</td>\n",
       "      <td>0.609302</td>\n",
       "      <td>12.059986</td>\n",
       "    </tr>\n",
       "    <tr>\n",
       "      <th>1</th>\n",
       "      <td>Multinomial NB</td>\n",
       "      <td>0.737743</td>\n",
       "      <td>40.009585</td>\n",
       "      <td>0.736857</td>\n",
       "      <td>2.809564</td>\n",
       "      <td>0.736857</td>\n",
       "      <td>3.145358</td>\n",
       "    </tr>\n",
       "  </tbody>\n",
       "</table>\n",
       "</div>"
      ],
      "text/plain": [
       "        Algorithm       BoW       time     BoWBi  BoWBi_time     TfIdf  \\\n",
       "0     Gaussian NB  0.585233  19.818053  0.609302   13.891714  0.609302   \n",
       "1  Multinomial NB  0.737743  40.009585  0.736857    2.809564  0.736857   \n",
       "\n",
       "   TfIdf_time  \n",
       "0   12.059986  \n",
       "1    3.145358  "
      ]
     },
     "execution_count": 61,
     "metadata": {},
     "output_type": "execute_result"
    }
   ],
   "source": [
    "models = [GaussianNB(), MultinomialNB()]\n",
    "\n",
    "names = [\"Gaussian NB\", \"Multinomial NB\"]\n",
    "\n",
    "jacc_scores = []\n",
    "acc_scores = []\n",
    "f1_scores = []\n",
    "exec_times = []\n",
    "\n",
    "for model, name in zip(models, names):\n",
    "    print(name)\n",
    "    start = time.time()\n",
    "    scoring = {\n",
    "        'acc': 'accuracy',\n",
    "        'f1_mac': 'f1_macro',\n",
    "        'jacc_mac': 'jaccard_macro'\n",
    "    }\n",
    "    scores = cross_validate(model, X, y, cv=10, n_jobs=4, scoring=scoring)\n",
    "    training_time = (time.time() - start)\n",
    "    print(\"accuracy: \", scores['test_acc'].mean())\n",
    "    print(\"f1_score: \", scores['test_f1_mac'].mean())\n",
    "    print(\"Jaccard_index: \", scores['test_jacc_mac'].mean())\n",
    "    print(\"time (sec): \", training_time)\n",
    "    print(\"\\n\")\n",
    "    \n",
    "    jacc_scores.append(scores['test_jacc_mac'].mean())\n",
    "    acc_scores.append(scores['test_acc'].mean())\n",
    "    f1_scores.append(scores['test_f1_mac'].mean())\n",
    "    exec_times.append(training_time)\n",
    "    \n",
    "acc_df['TfIdf'] = acc_scores\n",
    "jacc_df['TfIdf'] = jacc_scores\n",
    "f1_df['TfIdf'] = f1_scores\n",
    "acc_df['TfIdf_time'] = exec_times\n",
    "acc_df"
   ]
  },
  {
   "cell_type": "code",
   "execution_count": 57,
   "metadata": {
    "id": "F1VwGgh2s83Y"
   },
   "outputs": [],
   "source": [
    "acc_df.to_csv(\"accuracy.csv\", index=False)\n",
    "f1_df.to_csv(\"f1_score.csv\", index=False)\n",
    "jacc_df.to_csv(\"jacc_score.csv\", index=False)"
   ]
  },
  {
   "cell_type": "code",
   "execution_count": 58,
   "metadata": {
    "id": "i5GiJaWotADM"
   },
   "outputs": [
    {
     "data": {
      "text/html": [
       "<div>\n",
       "<style scoped>\n",
       "    .dataframe tbody tr th:only-of-type {\n",
       "        vertical-align: middle;\n",
       "    }\n",
       "\n",
       "    .dataframe tbody tr th {\n",
       "        vertical-align: top;\n",
       "    }\n",
       "\n",
       "    .dataframe thead th {\n",
       "        text-align: right;\n",
       "    }\n",
       "</style>\n",
       "<table border=\"1\" class=\"dataframe\">\n",
       "  <thead>\n",
       "    <tr style=\"text-align: right;\">\n",
       "      <th></th>\n",
       "      <th>Algorithm</th>\n",
       "      <th>BoW</th>\n",
       "      <th>BoWBi</th>\n",
       "      <th>TfIdf</th>\n",
       "    </tr>\n",
       "  </thead>\n",
       "  <tbody>\n",
       "    <tr>\n",
       "      <th>0</th>\n",
       "      <td>Gaussian NB</td>\n",
       "      <td>0.413084</td>\n",
       "      <td>0.406811</td>\n",
       "      <td>0.440846</td>\n",
       "    </tr>\n",
       "    <tr>\n",
       "      <th>1</th>\n",
       "      <td>Multinomial NB</td>\n",
       "      <td>0.577062</td>\n",
       "      <td>0.470742</td>\n",
       "      <td>0.570130</td>\n",
       "    </tr>\n",
       "  </tbody>\n",
       "</table>\n",
       "</div>"
      ],
      "text/plain": [
       "        Algorithm       BoW     BoWBi     TfIdf\n",
       "0     Gaussian NB  0.413084  0.406811  0.440846\n",
       "1  Multinomial NB  0.577062  0.470742  0.570130"
      ]
     },
     "execution_count": 58,
     "metadata": {},
     "output_type": "execute_result"
    }
   ],
   "source": []
  },
  {
   "cell_type": "code",
   "execution_count": null,
   "metadata": {},
   "outputs": [],
   "source": []
  },
  {
   "cell_type": "code",
   "execution_count": null,
   "metadata": {},
   "outputs": [],
   "source": []
  }
 ],
 "metadata": {
  "colab": {
   "provenance": []
  },
  "kernelspec": {
   "display_name": "Python 3 (ipykernel)",
   "language": "python",
   "name": "python3"
  },
  "language_info": {
   "codemirror_mode": {
    "name": "ipython",
    "version": 3
   },
   "file_extension": ".py",
   "mimetype": "text/x-python",
   "name": "python",
   "nbconvert_exporter": "python",
   "pygments_lexer": "ipython3",
   "version": "3.9.12"
  }
 },
 "nbformat": 4,
 "nbformat_minor": 1
}
